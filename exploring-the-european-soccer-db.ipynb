{
 "cells": [
  {
   "cell_type": "markdown",
   "id": "a40b033f",
   "metadata": {
    "papermill": {
     "duration": 0.005168,
     "end_time": "2025-08-19T12:43:43.094950",
     "exception": false,
     "start_time": "2025-08-19T12:43:43.089782",
     "status": "completed"
    },
    "tags": []
   },
   "source": [
    " # Setup"
   ]
  },
  {
   "cell_type": "code",
   "execution_count": 1,
   "id": "837f38b1",
   "metadata": {
    "_cell_guid": "b1076dfc-b9ad-4769-8c92-a6c4dae69d19",
    "_uuid": "8f2839f25d086af736a60e9eeb907d3b93b6e0e5",
    "execution": {
     "iopub.execute_input": "2025-08-19T12:43:43.105372Z",
     "iopub.status.busy": "2025-08-19T12:43:43.105037Z",
     "iopub.status.idle": "2025-08-19T12:43:45.062096Z",
     "shell.execute_reply": "2025-08-19T12:43:45.060887Z"
    },
    "papermill": {
     "duration": 1.964465,
     "end_time": "2025-08-19T12:43:45.064089",
     "exception": false,
     "start_time": "2025-08-19T12:43:43.099624",
     "status": "completed"
    },
    "tags": []
   },
   "outputs": [],
   "source": [
    "import warnings\n",
    "# warnings.filterwarnings(\"ignore\")\n",
    "# warnings.filterwarnings(\"ignore\", category=DeprecationWarning)\n",
    "# warnings.filterwarnings(\"ignore\", category=FutureWarning)\n",
    "# warnings.filterwarnings(\"ignore\", category=UserWarning)\n",
    "# warnings.filterwarnings(\"ignore\", category=RuntimeWarning)\n",
    "\n",
    "import sqlite3\n",
    "import numpy as np\n",
    "import pandas as pd\n",
    "# import matplotlib.pyplot as plt\n",
    "\n",
    "\n",
    "path = \"../input/soccer/\"\n",
    "database = path + 'database.sqlite'\n",
    "conn = sqlite3.connect(database)\n",
    "\n",
    "tables = pd.read_sql(\"\"\"SELECT * FROM sqlite_master\n",
    "                        WHERE type='table';\"\"\", conn)\n",
    "\n",
    "pd.set_option('display.float_format', '{:.4f}'.format)"
   ]
  },
  {
   "cell_type": "code",
   "execution_count": 2,
   "id": "8080b550",
   "metadata": {
    "execution": {
     "iopub.execute_input": "2025-08-19T12:43:45.074762Z",
     "iopub.status.busy": "2025-08-19T12:43:45.074309Z",
     "iopub.status.idle": "2025-08-19T12:43:45.099735Z",
     "shell.execute_reply": "2025-08-19T12:43:45.098800Z"
    },
    "papermill": {
     "duration": 0.032567,
     "end_time": "2025-08-19T12:43:45.101431",
     "exception": false,
     "start_time": "2025-08-19T12:43:45.068864",
     "status": "completed"
    },
    "tags": []
   },
   "outputs": [
    {
     "data": {
      "text/html": [
       "<div>\n",
       "<style scoped>\n",
       "    .dataframe tbody tr th:only-of-type {\n",
       "        vertical-align: middle;\n",
       "    }\n",
       "\n",
       "    .dataframe tbody tr th {\n",
       "        vertical-align: top;\n",
       "    }\n",
       "\n",
       "    .dataframe thead th {\n",
       "        text-align: right;\n",
       "    }\n",
       "</style>\n",
       "<table border=\"1\" class=\"dataframe\">\n",
       "  <thead>\n",
       "    <tr style=\"text-align: right;\">\n",
       "      <th></th>\n",
       "      <th>type</th>\n",
       "      <th>name</th>\n",
       "      <th>tbl_name</th>\n",
       "      <th>rootpage</th>\n",
       "      <th>sql</th>\n",
       "    </tr>\n",
       "  </thead>\n",
       "  <tbody>\n",
       "    <tr>\n",
       "      <th>0</th>\n",
       "      <td>table</td>\n",
       "      <td>sqlite_sequence</td>\n",
       "      <td>sqlite_sequence</td>\n",
       "      <td>4</td>\n",
       "      <td>CREATE TABLE sqlite_sequence(name,seq)</td>\n",
       "    </tr>\n",
       "    <tr>\n",
       "      <th>1</th>\n",
       "      <td>table</td>\n",
       "      <td>Player_Attributes</td>\n",
       "      <td>Player_Attributes</td>\n",
       "      <td>11</td>\n",
       "      <td>CREATE TABLE \"Player_Attributes\" (\\n\\t`id`\\tIN...</td>\n",
       "    </tr>\n",
       "    <tr>\n",
       "      <th>2</th>\n",
       "      <td>table</td>\n",
       "      <td>Player</td>\n",
       "      <td>Player</td>\n",
       "      <td>14</td>\n",
       "      <td>CREATE TABLE `Player` (\\n\\t`id`\\tINTEGER PRIMA...</td>\n",
       "    </tr>\n",
       "    <tr>\n",
       "      <th>3</th>\n",
       "      <td>table</td>\n",
       "      <td>Match</td>\n",
       "      <td>Match</td>\n",
       "      <td>18</td>\n",
       "      <td>CREATE TABLE `Match` (\\n\\t`id`\\tINTEGER PRIMAR...</td>\n",
       "    </tr>\n",
       "    <tr>\n",
       "      <th>4</th>\n",
       "      <td>table</td>\n",
       "      <td>League</td>\n",
       "      <td>League</td>\n",
       "      <td>24</td>\n",
       "      <td>CREATE TABLE `League` (\\n\\t`id`\\tINTEGER PRIMA...</td>\n",
       "    </tr>\n",
       "    <tr>\n",
       "      <th>5</th>\n",
       "      <td>table</td>\n",
       "      <td>Country</td>\n",
       "      <td>Country</td>\n",
       "      <td>26</td>\n",
       "      <td>CREATE TABLE `Country` (\\n\\t`id`\\tINTEGER PRIM...</td>\n",
       "    </tr>\n",
       "    <tr>\n",
       "      <th>6</th>\n",
       "      <td>table</td>\n",
       "      <td>Team</td>\n",
       "      <td>Team</td>\n",
       "      <td>29</td>\n",
       "      <td>CREATE TABLE \"Team\" (\\n\\t`id`\\tINTEGER PRIMARY...</td>\n",
       "    </tr>\n",
       "    <tr>\n",
       "      <th>7</th>\n",
       "      <td>table</td>\n",
       "      <td>Team_Attributes</td>\n",
       "      <td>Team_Attributes</td>\n",
       "      <td>2</td>\n",
       "      <td>CREATE TABLE `Team_Attributes` (\\n\\t`id`\\tINTE...</td>\n",
       "    </tr>\n",
       "  </tbody>\n",
       "</table>\n",
       "</div>"
      ],
      "text/plain": [
       "    type               name           tbl_name  rootpage  \\\n",
       "0  table    sqlite_sequence    sqlite_sequence         4   \n",
       "1  table  Player_Attributes  Player_Attributes        11   \n",
       "2  table             Player             Player        14   \n",
       "3  table              Match              Match        18   \n",
       "4  table             League             League        24   \n",
       "5  table            Country            Country        26   \n",
       "6  table               Team               Team        29   \n",
       "7  table    Team_Attributes    Team_Attributes         2   \n",
       "\n",
       "                                                 sql  \n",
       "0             CREATE TABLE sqlite_sequence(name,seq)  \n",
       "1  CREATE TABLE \"Player_Attributes\" (\\n\\t`id`\\tIN...  \n",
       "2  CREATE TABLE `Player` (\\n\\t`id`\\tINTEGER PRIMA...  \n",
       "3  CREATE TABLE `Match` (\\n\\t`id`\\tINTEGER PRIMAR...  \n",
       "4  CREATE TABLE `League` (\\n\\t`id`\\tINTEGER PRIMA...  \n",
       "5  CREATE TABLE `Country` (\\n\\t`id`\\tINTEGER PRIM...  \n",
       "6  CREATE TABLE \"Team\" (\\n\\t`id`\\tINTEGER PRIMARY...  \n",
       "7  CREATE TABLE `Team_Attributes` (\\n\\t`id`\\tINTE...  "
      ]
     },
     "execution_count": 2,
     "metadata": {},
     "output_type": "execute_result"
    }
   ],
   "source": [
    "tables"
   ]
  },
  {
   "cell_type": "code",
   "execution_count": 3,
   "id": "50f61a4f",
   "metadata": {
    "execution": {
     "iopub.execute_input": "2025-08-19T12:43:45.112304Z",
     "iopub.status.busy": "2025-08-19T12:43:45.112035Z",
     "iopub.status.idle": "2025-08-19T12:43:46.440777Z",
     "shell.execute_reply": "2025-08-19T12:43:46.439810Z"
    },
    "papermill": {
     "duration": 1.336028,
     "end_time": "2025-08-19T12:43:46.442514",
     "exception": false,
     "start_time": "2025-08-19T12:43:45.106486",
     "status": "completed"
    },
    "tags": []
   },
   "outputs": [],
   "source": [
    "# Fetching required data tables, leagues together with countries\n",
    "\n",
    "leagues = pd.read_sql(\"\"\"SELECT l.id, l.country_id, c.name as country_name, l.name as league_name\n",
    "                         FROM League l JOIN Country c ON c.id = l.country_id;\"\"\", conn, index_col='id')\n",
    "team_df = pd.read_sql(\"\"\"SELECT id, team_api_id, team_long_name, team_short_name \n",
    "                        FROM Team;\"\"\", conn, index_col='id')\n",
    "\n",
    "player_df = pd.read_sql(\"SELECT * FROM Player;\", conn, index_col='id')"
   ]
  },
  {
   "cell_type": "code",
   "execution_count": 4,
   "id": "8145480d",
   "metadata": {
    "execution": {
     "iopub.execute_input": "2025-08-19T12:43:46.453947Z",
     "iopub.status.busy": "2025-08-19T12:43:46.453637Z",
     "iopub.status.idle": "2025-08-19T12:43:52.109236Z",
     "shell.execute_reply": "2025-08-19T12:43:52.108195Z"
    },
    "papermill": {
     "duration": 5.663513,
     "end_time": "2025-08-19T12:43:52.111107",
     "exception": false,
     "start_time": "2025-08-19T12:43:46.447594",
     "status": "completed"
    },
    "tags": []
   },
   "outputs": [],
   "source": [
    "### Fetching 'Player_Attributes'\n",
    "# - keeping only rows with 'overall_rating'\n",
    "# - adding second date, as a 'valid to' date, the date when the attribure changed\n",
    "\n",
    "player_attr_df = pd.read_sql(\n",
    "                    \"\"\"SELECT id, player_api_id, player_fifa_api_id, date(date) as 'date', \n",
    "                    \t   coalesce(date(lead(date) over(partition by player_api_id order by date)), date('now')) as 'valid_to',\n",
    "                    \t   overall_rating, potential, preferred_foot, attacking_work_rate,\n",
    "                           defensive_work_rate, crossing, finishing, heading_accuracy,\n",
    "                           short_passing, volleys, dribbling, curve, free_kick_accuracy,\n",
    "                           long_passing, ball_control, acceleration, sprint_speed,\n",
    "                           agility, reactions, balance, shot_power, jumping, stamina,\n",
    "                           strength, long_shots, aggression, interceptions, positioning,\n",
    "                           vision, penalties, marking, standing_tackle, sliding_tackle,\n",
    "                           gk_diving, gk_handling, gk_kicking, gk_positioning, gk_reflexes\n",
    "                    FROM  Player_Attributes\n",
    "                    WHERE overall_rating IS NOT NULL;\"\"\", conn, index_col='id')\n",
    "player_attr_df['date'] = pd.to_datetime(player_attr_df['date'])\n",
    "player_attr_df['valid_to'] = pd.to_datetime(player_attr_df['valid_to'])"
   ]
  },
  {
   "cell_type": "code",
   "execution_count": 5,
   "id": "1ebf0b8b",
   "metadata": {
    "execution": {
     "iopub.execute_input": "2025-08-19T12:43:52.122023Z",
     "iopub.status.busy": "2025-08-19T12:43:52.121715Z",
     "iopub.status.idle": "2025-08-19T12:44:07.234731Z",
     "shell.execute_reply": "2025-08-19T12:44:07.233463Z"
    },
    "papermill": {
     "duration": 15.120979,
     "end_time": "2025-08-19T12:44:07.237036",
     "exception": false,
     "start_time": "2025-08-19T12:43:52.116057",
     "status": "completed"
    },
    "tags": []
   },
   "outputs": [
    {
     "name": "stdout",
     "output_type": "stream",
     "text": [
      "<class 'pandas.core.frame.DataFrame'>\n",
      "RangeIndex: 25979 entries, 0 to 25978\n",
      "Data columns (total 116 columns):\n",
      " #    Column            Dtype         \n",
      "---   ------            -----         \n",
      " 0    id                int64         \n",
      " 1    country_id        int64         \n",
      " 2    league_id         int64         \n",
      " 3    season            object        \n",
      " 4    stage             int64         \n",
      " 5    date              datetime64[ns]\n",
      " 6    match_api_id      int64         \n",
      " 7    home_team_api_id  int64         \n",
      " 8    away_team_api_id  int64         \n",
      " 9    home_team_goal    int64         \n",
      " 10   away_team_goal    int64         \n",
      " 11   home_player_X1    float64       \n",
      " 12   home_player_X2    float64       \n",
      " 13   home_player_X3    float64       \n",
      " 14   home_player_X4    float64       \n",
      " 15   home_player_X5    float64       \n",
      " 16   home_player_X6    float64       \n",
      " 17   home_player_X7    float64       \n",
      " 18   home_player_X8    float64       \n",
      " 19   home_player_X9    float64       \n",
      " 20   home_player_X10   float64       \n",
      " 21   home_player_X11   float64       \n",
      " 22   away_player_X1    float64       \n",
      " 23   away_player_X2    float64       \n",
      " 24   away_player_X3    float64       \n",
      " 25   away_player_X4    float64       \n",
      " 26   away_player_X5    float64       \n",
      " 27   away_player_X6    float64       \n",
      " 28   away_player_X7    float64       \n",
      " 29   away_player_X8    float64       \n",
      " 30   away_player_X9    float64       \n",
      " 31   away_player_X10   float64       \n",
      " 32   away_player_X11   float64       \n",
      " 33   home_player_Y1    float64       \n",
      " 34   home_player_Y2    float64       \n",
      " 35   home_player_Y3    float64       \n",
      " 36   home_player_Y4    float64       \n",
      " 37   home_player_Y5    float64       \n",
      " 38   home_player_Y6    float64       \n",
      " 39   home_player_Y7    float64       \n",
      " 40   home_player_Y8    float64       \n",
      " 41   home_player_Y9    float64       \n",
      " 42   home_player_Y10   float64       \n",
      " 43   home_player_Y11   float64       \n",
      " 44   away_player_Y1    float64       \n",
      " 45   away_player_Y2    float64       \n",
      " 46   away_player_Y3    float64       \n",
      " 47   away_player_Y4    float64       \n",
      " 48   away_player_Y5    float64       \n",
      " 49   away_player_Y6    float64       \n",
      " 50   away_player_Y7    float64       \n",
      " 51   away_player_Y8    float64       \n",
      " 52   away_player_Y9    float64       \n",
      " 53   away_player_Y10   float64       \n",
      " 54   away_player_Y11   float64       \n",
      " 55   home_player_1     float64       \n",
      " 56   home_player_2     float64       \n",
      " 57   home_player_3     float64       \n",
      " 58   home_player_4     float64       \n",
      " 59   home_player_5     float64       \n",
      " 60   home_player_6     float64       \n",
      " 61   home_player_7     float64       \n",
      " 62   home_player_8     float64       \n",
      " 63   home_player_9     float64       \n",
      " 64   home_player_10    float64       \n",
      " 65   home_player_11    float64       \n",
      " 66   away_player_1     float64       \n",
      " 67   away_player_2     float64       \n",
      " 68   away_player_3     float64       \n",
      " 69   away_player_4     float64       \n",
      " 70   away_player_5     float64       \n",
      " 71   away_player_6     float64       \n",
      " 72   away_player_7     float64       \n",
      " 73   away_player_8     float64       \n",
      " 74   away_player_9     float64       \n",
      " 75   away_player_10    float64       \n",
      " 76   away_player_11    float64       \n",
      " 77   goal              object        \n",
      " 78   shoton            object        \n",
      " 79   shotoff           object        \n",
      " 80   foulcommit        object        \n",
      " 81   card              object        \n",
      " 82   cross             object        \n",
      " 83   corner            object        \n",
      " 84   possession        object        \n",
      " 85   B365H             float64       \n",
      " 86   B365D             float64       \n",
      " 87   B365A             float64       \n",
      " 88   BWH               float64       \n",
      " 89   BWD               float64       \n",
      " 90   BWA               float64       \n",
      " 91   IWH               float64       \n",
      " 92   IWD               float64       \n",
      " 93   IWA               float64       \n",
      " 94   LBH               float64       \n",
      " 95   LBD               float64       \n",
      " 96   LBA               float64       \n",
      " 97   PSH               float64       \n",
      " 98   PSD               float64       \n",
      " 99   PSA               float64       \n",
      " 100  WHH               float64       \n",
      " 101  WHD               float64       \n",
      " 102  WHA               float64       \n",
      " 103  SJH               float64       \n",
      " 104  SJD               float64       \n",
      " 105  SJA               float64       \n",
      " 106  VCH               float64       \n",
      " 107  VCD               float64       \n",
      " 108  VCA               float64       \n",
      " 109  GBH               float64       \n",
      " 110  GBD               float64       \n",
      " 111  GBA               float64       \n",
      " 112  BSH               float64       \n",
      " 113  BSD               float64       \n",
      " 114  BSA               float64       \n",
      " 115  result            object        \n",
      "dtypes: datetime64[ns](1), float64(96), int64(9), object(10)\n",
      "memory usage: 23.0+ MB\n"
     ]
    }
   ],
   "source": [
    "### Fetching 'Match'\n",
    "match_df = pd.read_sql(\"SELECT * FROM Match;\", conn)\n",
    "match_df['date'] = pd.to_datetime(match_df['date'])\n",
    "match_df['result'] = np.sign(match_df['home_team_goal'] - match_df['away_team_goal']) \\\n",
    "                    .map({1: 'home', -1: 'away', 0: 'draw'})\n",
    "match_df.info(verbose=True)"
   ]
  },
  {
   "cell_type": "code",
   "execution_count": 6,
   "id": "10888dcc",
   "metadata": {
    "execution": {
     "iopub.execute_input": "2025-08-19T12:44:07.249711Z",
     "iopub.status.busy": "2025-08-19T12:44:07.249208Z",
     "iopub.status.idle": "2025-08-19T12:44:07.255483Z",
     "shell.execute_reply": "2025-08-19T12:44:07.254289Z"
    },
    "papermill": {
     "duration": 0.015096,
     "end_time": "2025-08-19T12:44:07.257352",
     "exception": false,
     "start_time": "2025-08-19T12:44:07.242256",
     "status": "completed"
    },
    "tags": []
   },
   "outputs": [],
   "source": [
    "# Identifying columns for further work\n",
    "\n",
    "betting_cols = match_df.columns[85:].tolist()\n",
    "players_cols = match_df.columns[11:77].tolist()\n",
    "add_info_cols = match_df.columns[77:85].tolist()\n",
    "\n",
    "cols_to_drop = betting_cols + add_info_cols"
   ]
  },
  {
   "cell_type": "markdown",
   "id": "9967a78c",
   "metadata": {
    "papermill": {
     "duration": 0.005486,
     "end_time": "2025-08-19T12:44:07.268079",
     "exception": false,
     "start_time": "2025-08-19T12:44:07.262593",
     "status": "completed"
    },
    "tags": []
   },
   "source": [
    "# Players Analysis"
   ]
  },
  {
   "cell_type": "code",
   "execution_count": 7,
   "id": "64de1a83",
   "metadata": {
    "execution": {
     "iopub.execute_input": "2025-08-19T12:44:07.279726Z",
     "iopub.status.busy": "2025-08-19T12:44:07.278386Z",
     "iopub.status.idle": "2025-08-19T12:44:07.300864Z",
     "shell.execute_reply": "2025-08-19T12:44:07.299673Z"
    },
    "papermill": {
     "duration": 0.029722,
     "end_time": "2025-08-19T12:44:07.302519",
     "exception": false,
     "start_time": "2025-08-19T12:44:07.272797",
     "status": "completed"
    },
    "tags": []
   },
   "outputs": [],
   "source": [
    "# Cleaning match_df for 'Players Analysis'\n",
    "match_players = match_df.drop(columns=cols_to_drop)\n",
    "match_players = match_players[match_players['home_player_X1'].notna()]"
   ]
  },
  {
   "cell_type": "code",
   "execution_count": 8,
   "id": "f3eff75b",
   "metadata": {
    "execution": {
     "iopub.execute_input": "2025-08-19T12:44:07.314011Z",
     "iopub.status.busy": "2025-08-19T12:44:07.313712Z",
     "iopub.status.idle": "2025-08-19T12:44:07.543725Z",
     "shell.execute_reply": "2025-08-19T12:44:07.542667Z"
    },
    "papermill": {
     "duration": 0.237989,
     "end_time": "2025-08-19T12:44:07.545421",
     "exception": false,
     "start_time": "2025-08-19T12:44:07.307432",
     "status": "completed"
    },
    "tags": []
   },
   "outputs": [],
   "source": [
    "# Identify all relevant coordinate columns\n",
    "coord_cols = [\n",
    "    col for col in match_players.columns\n",
    "    if col.startswith(\"home_player_X\") or\n",
    "       col.startswith(\"home_player_Y\") or\n",
    "       col.startswith(\"away_player_X\") or\n",
    "       col.startswith(\"away_player_Y\")\n",
    "]\n",
    "\n",
    "id_columns = [f'home_player_{i}' for i in range(1, 12)] + \\\n",
    "             [f'away_player_{i}' for i in range(1, 12)]\n",
    "\n",
    "# Fill NaN with 0 and convert to int\n",
    "match_players[coord_cols] = match_players[coord_cols].fillna(0).astype(int)\n",
    "match_players[id_columns] = match_players[id_columns].fillna(0).astype('int32') \n",
    "\n",
    "# Create tuple columns for players\n",
    "for i in range(1, 12):\n",
    "    match_players[f'home_player_{i}_pos'] = list(zip(match_players[f'home_player_X{i}'], \n",
    "                                                     match_players[f'home_player_Y{i}']))\n",
    "\n",
    "for i in range(1, 12):\n",
    "    match_players[f'away_player_{i}_pos'] = list(zip(match_players[f'away_player_X{i}'], \n",
    "                                                     match_players[f'away_player_Y{i}']))"
   ]
  },
  {
   "cell_type": "markdown",
   "id": "9e365d19",
   "metadata": {
    "papermill": {
     "duration": 0.004554,
     "end_time": "2025-08-19T12:44:07.555237",
     "exception": false,
     "start_time": "2025-08-19T12:44:07.550683",
     "status": "completed"
    },
    "tags": []
   },
   "source": [
    "Home_player_id X1-X11 - The ID of the player on each position which can be linked to the FIFA stats\n",
    "\n",
    "Away_player_id X1-X11 - 30 Player-specific FIFA statistics\n",
    "\n",
    "Home_player_X1 – X11\n",
    "For each home player the position in the width of the Field (1-9)\n",
    "\n",
    "Away_player_X1 – X11\n",
    "For each away player the position in the width of the Field (1-9)\n",
    "\n",
    "Home_player_Y1 – Y11\n",
    "For each home player the position in the length of the Field (1-11)\n",
    "\n",
    "Away_player_Y1 – Y11\n",
    "For each away player the position in the length of the Field (1-11)\n",
    "\n",
    "![](https://i125.fastpic.org/big/2025/0808/e0/091e1e44d61c2c05084c817769b3a1e0.png)"
   ]
  },
  {
   "cell_type": "code",
   "execution_count": 9,
   "id": "9e4a828c",
   "metadata": {
    "execution": {
     "iopub.execute_input": "2025-08-19T12:44:07.566306Z",
     "iopub.status.busy": "2025-08-19T12:44:07.566002Z",
     "iopub.status.idle": "2025-08-19T12:44:08.166235Z",
     "shell.execute_reply": "2025-08-19T12:44:08.165155Z"
    },
    "papermill": {
     "duration": 0.608075,
     "end_time": "2025-08-19T12:44:08.168107",
     "exception": false,
     "start_time": "2025-08-19T12:44:07.560032",
     "status": "completed"
    },
    "tags": []
   },
   "outputs": [],
   "source": [
    "# Detect goalkeeper IDs\n",
    "def find_goalkeeper_id(row, side):\n",
    "    for i in range(1, 12):\n",
    "        if row[f'{side}_player_{i}_pos'] == (1, 1):\n",
    "            return row[f'{side}_player_{i}']  # ID from the ID column\n",
    "    return None\n",
    "\n",
    "match_players['home_gk_id'] = match_players.apply(find_goalkeeper_id, \n",
    "                                                  side='home', axis=1).astype('Int32')\n",
    "match_players['away_gk_id'] = match_players.apply(find_goalkeeper_id, \n",
    "                                                  side='away', axis=1).astype('Int32')\n"
   ]
  },
  {
   "cell_type": "code",
   "execution_count": 10,
   "id": "4f2e13a2",
   "metadata": {
    "execution": {
     "iopub.execute_input": "2025-08-19T12:44:08.179420Z",
     "iopub.status.busy": "2025-08-19T12:44:08.179093Z",
     "iopub.status.idle": "2025-08-19T12:44:08.190109Z",
     "shell.execute_reply": "2025-08-19T12:44:08.189196Z"
    },
    "papermill": {
     "duration": 0.018998,
     "end_time": "2025-08-19T12:44:08.192014",
     "exception": false,
     "start_time": "2025-08-19T12:44:08.173016",
     "status": "completed"
    },
    "tags": []
   },
   "outputs": [],
   "source": [
    "unique_gk_ids = pd.unique(pd.concat([match_players['home_gk_id'], \n",
    "                                     match_players['away_gk_id']]).dropna())\n",
    "unique_gk_ids = unique_gk_ids[unique_gk_ids != 0] \n",
    "\n",
    "goalkeepers = pd.DataFrame({\n",
    "    'player_id': unique_gk_ids.astype('int32'),\n",
    "    'position': 'goalkeeper'\n",
    "}).reset_index(drop=True)"
   ]
  },
  {
   "cell_type": "code",
   "execution_count": 11,
   "id": "8e7e49bb",
   "metadata": {
    "execution": {
     "iopub.execute_input": "2025-08-19T12:44:08.202940Z",
     "iopub.status.busy": "2025-08-19T12:44:08.202650Z",
     "iopub.status.idle": "2025-08-19T12:44:08.396411Z",
     "shell.execute_reply": "2025-08-19T12:44:08.395436Z"
    },
    "papermill": {
     "duration": 0.201288,
     "end_time": "2025-08-19T12:44:08.398252",
     "exception": false,
     "start_time": "2025-08-19T12:44:08.196964",
     "status": "completed"
    },
    "tags": []
   },
   "outputs": [],
   "source": [
    "# Merge goalkeepers info into player_attr_df\n",
    "player_attr_df = player_attr_df.merge(\n",
    "    goalkeepers[['player_id', 'position']],\n",
    "    left_on='player_api_id',\n",
    "    right_on='player_id',\n",
    "    how='left'\n",
    ")\n",
    "\n",
    "player_attr_df.drop(columns='player_id', inplace=True)\n",
    "\n",
    "player_attr_df['position'] = player_attr_df['position'].fillna('other')"
   ]
  },
  {
   "cell_type": "code",
   "execution_count": 12,
   "id": "f0fba8f8",
   "metadata": {
    "execution": {
     "iopub.execute_input": "2025-08-19T12:44:08.410066Z",
     "iopub.status.busy": "2025-08-19T12:44:08.409595Z",
     "iopub.status.idle": "2025-08-19T12:44:08.490927Z",
     "shell.execute_reply": "2025-08-19T12:44:08.489654Z"
    },
    "papermill": {
     "duration": 0.089482,
     "end_time": "2025-08-19T12:44:08.492604",
     "exception": false,
     "start_time": "2025-08-19T12:44:08.403122",
     "status": "completed"
    },
    "tags": []
   },
   "outputs": [
    {
     "name": "stdout",
     "output_type": "stream",
     "text": [
      "<class 'pandas.core.frame.DataFrame'>\n",
      "RangeIndex: 183142 entries, 0 to 183141\n",
      "Data columns (total 43 columns):\n",
      " #   Column               Non-Null Count   Dtype         \n",
      "---  ------               --------------   -----         \n",
      " 0   player_api_id        183142 non-null  int64         \n",
      " 1   player_fifa_api_id   183142 non-null  int64         \n",
      " 2   date                 183142 non-null  datetime64[ns]\n",
      " 3   valid_to             183142 non-null  datetime64[ns]\n",
      " 4   overall_rating       183142 non-null  int64         \n",
      " 5   potential            183142 non-null  int64         \n",
      " 6   preferred_foot       183142 non-null  object        \n",
      " 7   attacking_work_rate  180748 non-null  object        \n",
      " 8   defensive_work_rate  183142 non-null  object        \n",
      " 9   crossing             183142 non-null  int64         \n",
      " 10  finishing            183142 non-null  int64         \n",
      " 11  heading_accuracy     183142 non-null  int64         \n",
      " 12  short_passing        183142 non-null  int64         \n",
      " 13  volleys              181265 non-null  float64       \n",
      " 14  dribbling            183142 non-null  int64         \n",
      " 15  curve                181265 non-null  float64       \n",
      " 16  free_kick_accuracy   183142 non-null  int64         \n",
      " 17  long_passing         183142 non-null  int64         \n",
      " 18  ball_control         183142 non-null  int64         \n",
      " 19  acceleration         183142 non-null  int64         \n",
      " 20  sprint_speed         183142 non-null  int64         \n",
      " 21  agility              181265 non-null  float64       \n",
      " 22  reactions            183142 non-null  int64         \n",
      " 23  balance              181265 non-null  float64       \n",
      " 24  shot_power           183142 non-null  int64         \n",
      " 25  jumping              181265 non-null  float64       \n",
      " 26  stamina              183142 non-null  int64         \n",
      " 27  strength             183142 non-null  int64         \n",
      " 28  long_shots           183142 non-null  int64         \n",
      " 29  aggression           183142 non-null  int64         \n",
      " 30  interceptions        183142 non-null  int64         \n",
      " 31  positioning          183142 non-null  int64         \n",
      " 32  vision               181265 non-null  float64       \n",
      " 33  penalties            183142 non-null  int64         \n",
      " 34  marking              183142 non-null  int64         \n",
      " 35  standing_tackle      183142 non-null  int64         \n",
      " 36  sliding_tackle       181265 non-null  float64       \n",
      " 37  gk_diving            183142 non-null  int64         \n",
      " 38  gk_handling          183142 non-null  int64         \n",
      " 39  gk_kicking           183142 non-null  int64         \n",
      " 40  gk_positioning       183142 non-null  int64         \n",
      " 41  gk_reflexes          183142 non-null  int64         \n",
      " 42  position             183142 non-null  object        \n",
      "dtypes: datetime64[ns](2), float64(7), int64(30), object(4)\n",
      "memory usage: 60.1+ MB\n"
     ]
    }
   ],
   "source": [
    "player_attr_df.info(verbose=True)"
   ]
  },
  {
   "cell_type": "code",
   "execution_count": 13,
   "id": "1a93d4a8",
   "metadata": {
    "execution": {
     "iopub.execute_input": "2025-08-19T12:44:08.503951Z",
     "iopub.status.busy": "2025-08-19T12:44:08.503676Z",
     "iopub.status.idle": "2025-08-19T12:44:08.525880Z",
     "shell.execute_reply": "2025-08-19T12:44:08.524865Z"
    },
    "papermill": {
     "duration": 0.029525,
     "end_time": "2025-08-19T12:44:08.527324",
     "exception": false,
     "start_time": "2025-08-19T12:44:08.497799",
     "status": "completed"
    },
    "tags": []
   },
   "outputs": [
    {
     "data": {
      "text/plain": [
       "preferred_foot\n",
       "right    138409\n",
       "left      44733\n",
       "Name: count, dtype: int64"
      ]
     },
     "execution_count": 13,
     "metadata": {},
     "output_type": "execute_result"
    }
   ],
   "source": [
    "player_attr_df['preferred_foot'].value_counts(dropna=False)"
   ]
  },
  {
   "cell_type": "code",
   "execution_count": 14,
   "id": "922a16d8",
   "metadata": {
    "execution": {
     "iopub.execute_input": "2025-08-19T12:44:08.539063Z",
     "iopub.status.busy": "2025-08-19T12:44:08.538746Z",
     "iopub.status.idle": "2025-08-19T12:44:08.563376Z",
     "shell.execute_reply": "2025-08-19T12:44:08.562300Z"
    },
    "papermill": {
     "duration": 0.033036,
     "end_time": "2025-08-19T12:44:08.565518",
     "exception": false,
     "start_time": "2025-08-19T12:44:08.532482",
     "status": "completed"
    },
    "tags": []
   },
   "outputs": [
    {
     "data": {
      "text/plain": [
       "attacking_work_rate\n",
       "medium    125070\n",
       "high       42823\n",
       "low         8569\n",
       "None        3639\n",
       "None        2394\n",
       "norm         348\n",
       "y            106\n",
       "le           104\n",
       "stoc          89\n",
       "Name: count, dtype: int64"
      ]
     },
     "execution_count": 14,
     "metadata": {},
     "output_type": "execute_result"
    }
   ],
   "source": [
    "player_attr_df['attacking_work_rate'].value_counts(dropna=False)"
   ]
  },
  {
   "cell_type": "code",
   "execution_count": 15,
   "id": "ce4b3148",
   "metadata": {
    "execution": {
     "iopub.execute_input": "2025-08-19T12:44:08.578036Z",
     "iopub.status.busy": "2025-08-19T12:44:08.577719Z",
     "iopub.status.idle": "2025-08-19T12:44:08.600328Z",
     "shell.execute_reply": "2025-08-19T12:44:08.599287Z"
    },
    "papermill": {
     "duration": 0.031224,
     "end_time": "2025-08-19T12:44:08.602073",
     "exception": false,
     "start_time": "2025-08-19T12:44:08.570849",
     "status": "completed"
    },
    "tags": []
   },
   "outputs": [
    {
     "data": {
      "text/plain": [
       "defensive_work_rate\n",
       "medium    130846\n",
       "high       27041\n",
       "low        18432\n",
       "_0          2394\n",
       "o           1550\n",
       "1            441\n",
       "ormal        348\n",
       "2            342\n",
       "3            258\n",
       "5            234\n",
       "7            217\n",
       "0            197\n",
       "6            197\n",
       "9            152\n",
       "4            116\n",
       "es           106\n",
       "ean          104\n",
       "tocky         89\n",
       "8             78\n",
       "Name: count, dtype: int64"
      ]
     },
     "execution_count": 15,
     "metadata": {},
     "output_type": "execute_result"
    }
   ],
   "source": [
    "player_attr_df['defensive_work_rate'].value_counts(dropna=False)"
   ]
  },
  {
   "cell_type": "code",
   "execution_count": null,
   "id": "bd9a05b1",
   "metadata": {
    "papermill": {
     "duration": 0.005025,
     "end_time": "2025-08-19T12:44:08.612730",
     "exception": false,
     "start_time": "2025-08-19T12:44:08.607705",
     "status": "completed"
    },
    "tags": []
   },
   "outputs": [],
   "source": []
  },
  {
   "cell_type": "code",
   "execution_count": null,
   "id": "2c645b2a",
   "metadata": {
    "papermill": {
     "duration": 0.004879,
     "end_time": "2025-08-19T12:44:08.622845",
     "exception": false,
     "start_time": "2025-08-19T12:44:08.617966",
     "status": "completed"
    },
    "tags": []
   },
   "outputs": [],
   "source": []
  },
  {
   "cell_type": "markdown",
   "id": "b668f96c",
   "metadata": {
    "papermill": {
     "duration": 0.00489,
     "end_time": "2025-08-19T12:44:08.632983",
     "exception": false,
     "start_time": "2025-08-19T12:44:08.628093",
     "status": "completed"
    },
    "tags": []
   },
   "source": [
    "# Betting Analysis"
   ]
  },
  {
   "cell_type": "code",
   "execution_count": 16,
   "id": "cc71553e",
   "metadata": {
    "execution": {
     "iopub.execute_input": "2025-08-19T12:44:08.644625Z",
     "iopub.status.busy": "2025-08-19T12:44:08.644289Z",
     "iopub.status.idle": "2025-08-19T12:44:08.648711Z",
     "shell.execute_reply": "2025-08-19T12:44:08.647707Z"
    },
    "papermill": {
     "duration": 0.012161,
     "end_time": "2025-08-19T12:44:08.650313",
     "exception": false,
     "start_time": "2025-08-19T12:44:08.638152",
     "status": "completed"
    },
    "tags": []
   },
   "outputs": [],
   "source": [
    "\n",
    "# betting_df = pd.read_sql(\"\"\"SELECT\n",
    "# id,country_id,league_id,season,stage,date,match_api_id,\n",
    "# home_team_api_id,away_team_api_id,home_team_goal,away_team_goal,\n",
    "# B365H,B365D,B365A,BWH,BWD,BWA,IWH,IWD,IWA,LBH,LBD,LBA,PSH,PSD,PSA,\n",
    "# WHH,WHD,WHA,SJH,SJD,SJA,VCH,VCD,VCA,GBH,GBD,GBA,BSH,BSD,BSA\n",
    "# FROM MATCH\"\"\", conn)"
   ]
  },
  {
   "cell_type": "code",
   "execution_count": null,
   "id": "bd672e4e",
   "metadata": {
    "papermill": {
     "duration": 0.004824,
     "end_time": "2025-08-19T12:44:08.660749",
     "exception": false,
     "start_time": "2025-08-19T12:44:08.655925",
     "status": "completed"
    },
    "tags": []
   },
   "outputs": [],
   "source": []
  },
  {
   "cell_type": "code",
   "execution_count": null,
   "id": "3014b1cc",
   "metadata": {
    "papermill": {
     "duration": 0.004792,
     "end_time": "2025-08-19T12:44:08.671158",
     "exception": false,
     "start_time": "2025-08-19T12:44:08.666366",
     "status": "completed"
    },
    "tags": []
   },
   "outputs": [],
   "source": []
  },
  {
   "cell_type": "code",
   "execution_count": null,
   "id": "1e1e0900",
   "metadata": {
    "papermill": {
     "duration": 0.004762,
     "end_time": "2025-08-19T12:44:08.680866",
     "exception": false,
     "start_time": "2025-08-19T12:44:08.676104",
     "status": "completed"
    },
    "tags": []
   },
   "outputs": [],
   "source": []
  },
  {
   "cell_type": "code",
   "execution_count": null,
   "id": "fd8a9b2e",
   "metadata": {
    "papermill": {
     "duration": 0.004707,
     "end_time": "2025-08-19T12:44:08.690732",
     "exception": false,
     "start_time": "2025-08-19T12:44:08.686025",
     "status": "completed"
    },
    "tags": []
   },
   "outputs": [],
   "source": []
  },
  {
   "cell_type": "markdown",
   "id": "f6d458e2",
   "metadata": {
    "papermill": {
     "duration": 0.004659,
     "end_time": "2025-08-19T12:44:08.700377",
     "exception": false,
     "start_time": "2025-08-19T12:44:08.695718",
     "status": "completed"
    },
    "tags": []
   },
   "source": [
    "# To Be Continued ..."
   ]
  }
 ],
 "metadata": {
  "kaggle": {
   "accelerator": "none",
   "dataSources": [
    {
     "datasetId": 63,
     "sourceId": 589,
     "sourceType": "datasetVersion"
    }
   ],
   "dockerImageVersionId": 31089,
   "isGpuEnabled": false,
   "isInternetEnabled": true,
   "language": "python",
   "sourceType": "notebook"
  },
  "kernelspec": {
   "display_name": "Python 3",
   "language": "python",
   "name": "python3"
  },
  "language_info": {
   "codemirror_mode": {
    "name": "ipython",
    "version": 3
   },
   "file_extension": ".py",
   "mimetype": "text/x-python",
   "name": "python",
   "nbconvert_exporter": "python",
   "pygments_lexer": "ipython3",
   "version": "3.11.13"
  },
  "papermill": {
   "default_parameters": {},
   "duration": 31.361047,
   "end_time": "2025-08-19T12:44:09.426290",
   "environment_variables": {},
   "exception": null,
   "input_path": "__notebook__.ipynb",
   "output_path": "__notebook__.ipynb",
   "parameters": {},
   "start_time": "2025-08-19T12:43:38.065243",
   "version": "2.6.0"
  }
 },
 "nbformat": 4,
 "nbformat_minor": 5
}
