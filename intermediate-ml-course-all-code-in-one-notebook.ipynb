{
 "cells": [
  {
   "cell_type": "markdown",
   "id": "9e7311af",
   "metadata": {
    "papermill": {
     "duration": 0.007854,
     "end_time": "2025-07-29T08:23:16.595057",
     "exception": false,
     "start_time": "2025-07-29T08:23:16.587203",
     "status": "completed"
    },
    "tags": []
   },
   "source": [
    "<a id=\"top\"></a>\n",
    "# [Table of Contents](#top)\n",
    "\n",
    "- [Setup & Read data](#setup) <br>\n",
    "- [Obtain target and features & Split](#features) <br>\n",
    "- [Exercise: Missing Values](#missing) <br>\n",
    "- [Exercise: Categorical Variables](#categorical) <br>\n",
    "- [Exercise: Pipelines](#pipelines) <br>\n",
    "- [Exercise: Cross-Validation](#crossval) <br>\n",
    "- [Exercise: XGBoost](#xgboost) <br>\n",
    "- [Submit your results](#results) <br>\n",
    "- [Extra](#extra) <br>\n",
    "- [Continue to learn from others](#learn) <br>"
   ]
  },
  {
   "cell_type": "markdown",
   "id": "6c8364cd",
   "metadata": {
    "papermill": {
     "duration": 0.006229,
     "end_time": "2025-07-29T08:23:16.608520",
     "exception": false,
     "start_time": "2025-07-29T08:23:16.602291",
     "status": "completed"
    },
    "tags": []
   },
   "source": [
    "<a id=\"setup\"></a>\n",
    "# [Setup](#setup)"
   ]
  },
  {
   "cell_type": "code",
   "execution_count": 1,
   "id": "fac7f4cf",
   "metadata": {
    "_cell_guid": "b1076dfc-b9ad-4769-8c92-a6c4dae69d19",
    "_uuid": "8f2839f25d086af736a60e9eeb907d3b93b6e0e5",
    "execution": {
     "iopub.execute_input": "2025-07-29T08:23:16.623484Z",
     "iopub.status.busy": "2025-07-29T08:23:16.623081Z",
     "iopub.status.idle": "2025-07-29T08:23:20.868531Z",
     "shell.execute_reply": "2025-07-29T08:23:20.867457Z"
    },
    "papermill": {
     "duration": 4.255168,
     "end_time": "2025-07-29T08:23:20.870402",
     "exception": false,
     "start_time": "2025-07-29T08:23:16.615234",
     "status": "completed"
    },
    "tags": []
   },
   "outputs": [
    {
     "name": "stdout",
     "output_type": "stream",
     "text": [
      "/kaggle/input/home-data-for-ml-course/sample_submission.csv\n",
      "/kaggle/input/home-data-for-ml-course/sample_submission.csv.gz\n",
      "/kaggle/input/home-data-for-ml-course/train.csv.gz\n",
      "/kaggle/input/home-data-for-ml-course/data_description.txt\n",
      "/kaggle/input/home-data-for-ml-course/test.csv.gz\n",
      "/kaggle/input/home-data-for-ml-course/train.csv\n",
      "/kaggle/input/home-data-for-ml-course/test.csv\n"
     ]
    }
   ],
   "source": [
    "# Importing all here\n",
    "\n",
    "import warnings\n",
    "warnings.filterwarnings('ignore')\n",
    "import numpy as np\n",
    "import pandas as pd \n",
    "import matplotlib.pyplot as plt\n",
    "%matplotlib inline\n",
    "\n",
    "from sklearn.model_selection import train_test_split, cross_val_score\n",
    "from sklearn.ensemble import RandomForestRegressor\n",
    "from sklearn.metrics import mean_absolute_error\n",
    "\n",
    "from sklearn.impute import SimpleImputer\n",
    "from sklearn.preprocessing import OrdinalEncoder, OneHotEncoder\n",
    "\n",
    "from sklearn.compose import ColumnTransformer\n",
    "from sklearn.pipeline import Pipeline\n",
    "\n",
    "from xgboost import XGBRegressor\n",
    "\n",
    "# Input data files are available in the read-only \"../input/\" directory\n",
    "# For example, running this will list all files under the input directory\n",
    "\n",
    "import os\n",
    "for dirname, _, filenames in os.walk('/kaggle/input'):\n",
    "    for filename in filenames:\n",
    "        print(os.path.join(dirname, filename))"
   ]
  },
  {
   "cell_type": "code",
   "execution_count": 2,
   "id": "96a8e510",
   "metadata": {
    "execution": {
     "iopub.execute_input": "2025-07-29T08:23:20.886375Z",
     "iopub.status.busy": "2025-07-29T08:23:20.885930Z",
     "iopub.status.idle": "2025-07-29T08:23:20.974281Z",
     "shell.execute_reply": "2025-07-29T08:23:20.973429Z"
    },
    "papermill": {
     "duration": 0.098562,
     "end_time": "2025-07-29T08:23:20.975932",
     "exception": false,
     "start_time": "2025-07-29T08:23:20.877370",
     "status": "completed"
    },
    "tags": []
   },
   "outputs": [],
   "source": [
    "# Read the data\n",
    "X = pd.read_csv('/kaggle/input/home-data-for-ml-course/train.csv', index_col='Id')  # other names during the course: train_data, X_full\n",
    "X_test_full = pd.read_csv('/kaggle/input/home-data-for-ml-course/test.csv', index_col='Id')  # other names during the course: test_data, X_test (at reading) "
   ]
  },
  {
   "cell_type": "markdown",
   "id": "80c80393",
   "metadata": {
    "papermill": {
     "duration": 0.006311,
     "end_time": "2025-07-29T08:23:20.988966",
     "exception": false,
     "start_time": "2025-07-29T08:23:20.982655",
     "status": "completed"
    },
    "tags": []
   },
   "source": [
    "## use ` Ctrl + A ` to select all lines\n",
    "## use ` Ctrl + / ` to comment or uncomment selected lines"
   ]
  },
  {
   "cell_type": "markdown",
   "id": "c78fac63",
   "metadata": {
    "papermill": {
     "duration": 0.006447,
     "end_time": "2025-07-29T08:23:21.001941",
     "exception": false,
     "start_time": "2025-07-29T08:23:20.995494",
     "status": "completed"
    },
    "tags": []
   },
   "source": [
    "<a id=\"features\"></a>\n",
    "# [Obtain target and features & Split](#features)\n",
    "[Back to contents](#top)"
   ]
  },
  {
   "cell_type": "code",
   "execution_count": 3,
   "id": "cb28777b",
   "metadata": {
    "execution": {
     "iopub.execute_input": "2025-07-29T08:23:21.016643Z",
     "iopub.status.busy": "2025-07-29T08:23:21.016351Z",
     "iopub.status.idle": "2025-07-29T08:23:21.029672Z",
     "shell.execute_reply": "2025-07-29T08:23:21.028628Z"
    },
    "papermill": {
     "duration": 0.022801,
     "end_time": "2025-07-29T08:23:21.031542",
     "exception": false,
     "start_time": "2025-07-29T08:23:21.008741",
     "status": "completed"
    },
    "tags": []
   },
   "outputs": [],
   "source": [
    "# # Exercise: Introduction\n",
    "# # Obtain target and predictors\n",
    "# # Only selected features are used\n",
    "# features = ['LotArea', 'YearBuilt', '1stFlrSF', '2ndFlrSF', 'FullBath', 'BedroomAbvGr', 'TotRmsAbvGrd']\n",
    "# X = X_full[features].copy()\n",
    "# X_test = X_test_full[features].copy()\n",
    "\n",
    "\n",
    "# # Exercise: Missing Values\n",
    "# # To keep things simple, we'll use only numerical predictors\n",
    "# X = X_full.select_dtypes(exclude=['object'])\n",
    "# X_test = X_test_full.select_dtypes(exclude=['object'])\n",
    "\n",
    "\n",
    "# # Exercise: Categorical Variables\n",
    "# # To keep things simple, we'll drop columns with missing values\n",
    "# cols_with_missing = [col for col in X.columns if X[col].isnull().any()] \n",
    "# X.drop(cols_with_missing, axis=1, inplace=True)\n",
    "# X_test.drop(cols_with_missing, axis=1, inplace=True)\n",
    "\n",
    "\n",
    "# Remove rows with missing target, separate target from predictors\n",
    "X.dropna(axis=0, subset=['SalePrice'], inplace=True)\n",
    "y = X.SalePrice\n",
    "X.drop(['SalePrice'], axis=1, inplace=True)"
   ]
  },
  {
   "cell_type": "code",
   "execution_count": 4,
   "id": "d9a205b1",
   "metadata": {
    "execution": {
     "iopub.execute_input": "2025-07-29T08:23:21.047113Z",
     "iopub.status.busy": "2025-07-29T08:23:21.045697Z",
     "iopub.status.idle": "2025-07-29T08:23:21.054629Z",
     "shell.execute_reply": "2025-07-29T08:23:21.053613Z"
    },
    "papermill": {
     "duration": 0.018004,
     "end_time": "2025-07-29T08:23:21.056246",
     "exception": false,
     "start_time": "2025-07-29T08:23:21.038242",
     "status": "completed"
    },
    "tags": []
   },
   "outputs": [],
   "source": [
    "# Break off validation set from training data\n",
    "X_train_full, X_valid_full, y_train, y_valid = train_test_split(X, y, train_size=0.8, test_size=0.2,\n",
    "                                                                random_state=0)\n",
    "\n",
    "# (!) skip for Exercise: Cross-Validation (!)"
   ]
  },
  {
   "cell_type": "code",
   "execution_count": 5,
   "id": "30a3eb33",
   "metadata": {
    "execution": {
     "iopub.execute_input": "2025-07-29T08:23:21.071711Z",
     "iopub.status.busy": "2025-07-29T08:23:21.071180Z",
     "iopub.status.idle": "2025-07-29T08:23:21.100636Z",
     "shell.execute_reply": "2025-07-29T08:23:21.099803Z"
    },
    "papermill": {
     "duration": 0.038644,
     "end_time": "2025-07-29T08:23:21.102051",
     "exception": false,
     "start_time": "2025-07-29T08:23:21.063407",
     "status": "completed"
    },
    "tags": []
   },
   "outputs": [
    {
     "data": {
      "text/html": [
       "<div>\n",
       "<style scoped>\n",
       "    .dataframe tbody tr th:only-of-type {\n",
       "        vertical-align: middle;\n",
       "    }\n",
       "\n",
       "    .dataframe tbody tr th {\n",
       "        vertical-align: top;\n",
       "    }\n",
       "\n",
       "    .dataframe thead th {\n",
       "        text-align: right;\n",
       "    }\n",
       "</style>\n",
       "<table border=\"1\" class=\"dataframe\">\n",
       "  <thead>\n",
       "    <tr style=\"text-align: right;\">\n",
       "      <th></th>\n",
       "      <th>MSSubClass</th>\n",
       "      <th>MSZoning</th>\n",
       "      <th>LotFrontage</th>\n",
       "      <th>LotArea</th>\n",
       "      <th>Street</th>\n",
       "      <th>Alley</th>\n",
       "      <th>LotShape</th>\n",
       "      <th>LandContour</th>\n",
       "      <th>Utilities</th>\n",
       "      <th>LotConfig</th>\n",
       "      <th>...</th>\n",
       "      <th>ScreenPorch</th>\n",
       "      <th>PoolArea</th>\n",
       "      <th>PoolQC</th>\n",
       "      <th>Fence</th>\n",
       "      <th>MiscFeature</th>\n",
       "      <th>MiscVal</th>\n",
       "      <th>MoSold</th>\n",
       "      <th>YrSold</th>\n",
       "      <th>SaleType</th>\n",
       "      <th>SaleCondition</th>\n",
       "    </tr>\n",
       "    <tr>\n",
       "      <th>Id</th>\n",
       "      <th></th>\n",
       "      <th></th>\n",
       "      <th></th>\n",
       "      <th></th>\n",
       "      <th></th>\n",
       "      <th></th>\n",
       "      <th></th>\n",
       "      <th></th>\n",
       "      <th></th>\n",
       "      <th></th>\n",
       "      <th></th>\n",
       "      <th></th>\n",
       "      <th></th>\n",
       "      <th></th>\n",
       "      <th></th>\n",
       "      <th></th>\n",
       "      <th></th>\n",
       "      <th></th>\n",
       "      <th></th>\n",
       "      <th></th>\n",
       "      <th></th>\n",
       "    </tr>\n",
       "  </thead>\n",
       "  <tbody>\n",
       "    <tr>\n",
       "      <th>619</th>\n",
       "      <td>20</td>\n",
       "      <td>RL</td>\n",
       "      <td>90.0</td>\n",
       "      <td>11694</td>\n",
       "      <td>Pave</td>\n",
       "      <td>NaN</td>\n",
       "      <td>Reg</td>\n",
       "      <td>Lvl</td>\n",
       "      <td>AllPub</td>\n",
       "      <td>Inside</td>\n",
       "      <td>...</td>\n",
       "      <td>260</td>\n",
       "      <td>0</td>\n",
       "      <td>NaN</td>\n",
       "      <td>NaN</td>\n",
       "      <td>NaN</td>\n",
       "      <td>0</td>\n",
       "      <td>7</td>\n",
       "      <td>2007</td>\n",
       "      <td>New</td>\n",
       "      <td>Partial</td>\n",
       "    </tr>\n",
       "    <tr>\n",
       "      <th>871</th>\n",
       "      <td>20</td>\n",
       "      <td>RL</td>\n",
       "      <td>60.0</td>\n",
       "      <td>6600</td>\n",
       "      <td>Pave</td>\n",
       "      <td>NaN</td>\n",
       "      <td>Reg</td>\n",
       "      <td>Lvl</td>\n",
       "      <td>AllPub</td>\n",
       "      <td>Inside</td>\n",
       "      <td>...</td>\n",
       "      <td>0</td>\n",
       "      <td>0</td>\n",
       "      <td>NaN</td>\n",
       "      <td>NaN</td>\n",
       "      <td>NaN</td>\n",
       "      <td>0</td>\n",
       "      <td>8</td>\n",
       "      <td>2009</td>\n",
       "      <td>WD</td>\n",
       "      <td>Normal</td>\n",
       "    </tr>\n",
       "    <tr>\n",
       "      <th>93</th>\n",
       "      <td>30</td>\n",
       "      <td>RL</td>\n",
       "      <td>80.0</td>\n",
       "      <td>13360</td>\n",
       "      <td>Pave</td>\n",
       "      <td>Grvl</td>\n",
       "      <td>IR1</td>\n",
       "      <td>HLS</td>\n",
       "      <td>AllPub</td>\n",
       "      <td>Inside</td>\n",
       "      <td>...</td>\n",
       "      <td>0</td>\n",
       "      <td>0</td>\n",
       "      <td>NaN</td>\n",
       "      <td>NaN</td>\n",
       "      <td>NaN</td>\n",
       "      <td>0</td>\n",
       "      <td>8</td>\n",
       "      <td>2009</td>\n",
       "      <td>WD</td>\n",
       "      <td>Normal</td>\n",
       "    </tr>\n",
       "    <tr>\n",
       "      <th>818</th>\n",
       "      <td>20</td>\n",
       "      <td>RL</td>\n",
       "      <td>NaN</td>\n",
       "      <td>13265</td>\n",
       "      <td>Pave</td>\n",
       "      <td>NaN</td>\n",
       "      <td>IR1</td>\n",
       "      <td>Lvl</td>\n",
       "      <td>AllPub</td>\n",
       "      <td>CulDSac</td>\n",
       "      <td>...</td>\n",
       "      <td>0</td>\n",
       "      <td>0</td>\n",
       "      <td>NaN</td>\n",
       "      <td>NaN</td>\n",
       "      <td>NaN</td>\n",
       "      <td>0</td>\n",
       "      <td>7</td>\n",
       "      <td>2008</td>\n",
       "      <td>WD</td>\n",
       "      <td>Normal</td>\n",
       "    </tr>\n",
       "    <tr>\n",
       "      <th>303</th>\n",
       "      <td>20</td>\n",
       "      <td>RL</td>\n",
       "      <td>118.0</td>\n",
       "      <td>13704</td>\n",
       "      <td>Pave</td>\n",
       "      <td>NaN</td>\n",
       "      <td>IR1</td>\n",
       "      <td>Lvl</td>\n",
       "      <td>AllPub</td>\n",
       "      <td>Corner</td>\n",
       "      <td>...</td>\n",
       "      <td>0</td>\n",
       "      <td>0</td>\n",
       "      <td>NaN</td>\n",
       "      <td>NaN</td>\n",
       "      <td>NaN</td>\n",
       "      <td>0</td>\n",
       "      <td>1</td>\n",
       "      <td>2006</td>\n",
       "      <td>WD</td>\n",
       "      <td>Normal</td>\n",
       "    </tr>\n",
       "  </tbody>\n",
       "</table>\n",
       "<p>5 rows × 79 columns</p>\n",
       "</div>"
      ],
      "text/plain": [
       "     MSSubClass MSZoning  LotFrontage  LotArea Street Alley LotShape  \\\n",
       "Id                                                                     \n",
       "619          20       RL         90.0    11694   Pave   NaN      Reg   \n",
       "871          20       RL         60.0     6600   Pave   NaN      Reg   \n",
       "93           30       RL         80.0    13360   Pave  Grvl      IR1   \n",
       "818          20       RL          NaN    13265   Pave   NaN      IR1   \n",
       "303          20       RL        118.0    13704   Pave   NaN      IR1   \n",
       "\n",
       "    LandContour Utilities LotConfig  ... ScreenPorch PoolArea PoolQC Fence  \\\n",
       "Id                                   ...                                     \n",
       "619         Lvl    AllPub    Inside  ...         260        0    NaN   NaN   \n",
       "871         Lvl    AllPub    Inside  ...           0        0    NaN   NaN   \n",
       "93          HLS    AllPub    Inside  ...           0        0    NaN   NaN   \n",
       "818         Lvl    AllPub   CulDSac  ...           0        0    NaN   NaN   \n",
       "303         Lvl    AllPub    Corner  ...           0        0    NaN   NaN   \n",
       "\n",
       "    MiscFeature MiscVal  MoSold  YrSold  SaleType  SaleCondition  \n",
       "Id                                                                \n",
       "619         NaN       0       7    2007       New        Partial  \n",
       "871         NaN       0       8    2009        WD         Normal  \n",
       "93          NaN       0       8    2009        WD         Normal  \n",
       "818         NaN       0       7    2008        WD         Normal  \n",
       "303         NaN       0       1    2006        WD         Normal  \n",
       "\n",
       "[5 rows x 79 columns]"
      ]
     },
     "execution_count": 5,
     "metadata": {},
     "output_type": "execute_result"
    }
   ],
   "source": [
    "X_train_full.head()"
   ]
  },
  {
   "cell_type": "code",
   "execution_count": 6,
   "id": "6fdbae5c",
   "metadata": {
    "execution": {
     "iopub.execute_input": "2025-07-29T08:23:21.117331Z",
     "iopub.status.busy": "2025-07-29T08:23:21.117041Z",
     "iopub.status.idle": "2025-07-29T08:23:21.121396Z",
     "shell.execute_reply": "2025-07-29T08:23:21.120645Z"
    },
    "papermill": {
     "duration": 0.013981,
     "end_time": "2025-07-29T08:23:21.123101",
     "exception": false,
     "start_time": "2025-07-29T08:23:21.109120",
     "status": "completed"
    },
    "tags": []
   },
   "outputs": [],
   "source": [
    "# Lesson 1 Introduction -- Selecting best model using selected features\n",
    "\n",
    "## Define the models\n",
    "# model_1 = RandomForestRegressor(n_estimators=50, random_state=0)\n",
    "# model_2 = RandomForestRegressor(n_estimators=100, random_state=0)\n",
    "# model_3 = RandomForestRegressor(n_estimators=100, criterion='absolute_error', random_state=0)\n",
    "# model_4 = RandomForestRegressor(n_estimators=200, min_samples_split=20, random_state=0)\n",
    "# model_5 = RandomForestRegressor(n_estimators=100, max_depth=7, random_state=0)\n",
    "\n",
    "# models = [model_1, model_2, model_3, model_4, model_5]\n",
    "\n",
    "# # Function for comparing different models\n",
    "# def score_model(model, X_t=X_train, X_v=X_valid, y_t=y_train, y_v=y_valid):\n",
    "#     model.fit(X_t, y_t)\n",
    "#     preds = model.predict(X_v)\n",
    "#     return mean_absolute_error(y_v, preds)\n",
    "    \n",
    "# for i in range(0, len(models)):\n",
    "#     mae = score_model(models[i])\n",
    "#     print(\"Model %d MAE: %d\" % (i+1, mae))\n",
    "\n",
    "# # Fit the model to the training data\n",
    "# my_model = model_3\n",
    "# my_model.fit(X, y)\n",
    "\n",
    "# # Generate test predictions\n",
    "# preds_test = my_model.predict(X_test)"
   ]
  },
  {
   "cell_type": "code",
   "execution_count": 7,
   "id": "a7f6efa6",
   "metadata": {
    "execution": {
     "iopub.execute_input": "2025-07-29T08:23:21.138725Z",
     "iopub.status.busy": "2025-07-29T08:23:21.137918Z",
     "iopub.status.idle": "2025-07-29T08:23:21.142922Z",
     "shell.execute_reply": "2025-07-29T08:23:21.142026Z"
    },
    "papermill": {
     "duration": 0.014085,
     "end_time": "2025-07-29T08:23:21.144252",
     "exception": false,
     "start_time": "2025-07-29T08:23:21.130167",
     "status": "completed"
    },
    "tags": []
   },
   "outputs": [],
   "source": [
    "# Function for comparing different approaches -- used in Exercise: Missing Values & Exercise: Categorical Variables\n",
    "def score_dataset(X_train, X_valid, y_train, y_valid):\n",
    "    model = RandomForestRegressor(n_estimators=100, random_state=0)\n",
    "    model.fit(X_train, y_train)\n",
    "    preds = model.predict(X_valid)\n",
    "    return mean_absolute_error(y_valid, preds)"
   ]
  },
  {
   "cell_type": "markdown",
   "id": "34e5ecc1",
   "metadata": {
    "papermill": {
     "duration": 0.006672,
     "end_time": "2025-07-29T08:23:21.157791",
     "exception": false,
     "start_time": "2025-07-29T08:23:21.151119",
     "status": "completed"
    },
    "tags": []
   },
   "source": [
    "# Then we may follow \n",
    "#### [Exercise: Missing Values](#missing) <br>\n",
    "#### [Exercise: Categorical Variables](#categorical) <br>\n",
    "#### [Exercise: Pipelines](#pipelines) <br>\n",
    "#### [Exercise: Cross-Validation](#crossval) <br>\n",
    "#### [Exercise: XGBoost](#xgboost) <br>"
   ]
  },
  {
   "cell_type": "markdown",
   "id": "840f9c08",
   "metadata": {
    "papermill": {
     "duration": 0.006594,
     "end_time": "2025-07-29T08:23:21.171324",
     "exception": false,
     "start_time": "2025-07-29T08:23:21.164730",
     "status": "completed"
    },
    "tags": []
   },
   "source": [
    "<a id=\"missing\"></a>\n",
    "# [Missing Values](#missing)\n",
    "[Back to contents](#top)"
   ]
  },
  {
   "cell_type": "code",
   "execution_count": 8,
   "id": "16927dff",
   "metadata": {
    "execution": {
     "iopub.execute_input": "2025-07-29T08:23:21.187939Z",
     "iopub.status.busy": "2025-07-29T08:23:21.186959Z",
     "iopub.status.idle": "2025-07-29T08:23:21.191193Z",
     "shell.execute_reply": "2025-07-29T08:23:21.190335Z"
    },
    "papermill": {
     "duration": 0.014595,
     "end_time": "2025-07-29T08:23:21.192672",
     "exception": false,
     "start_time": "2025-07-29T08:23:21.178077",
     "status": "completed"
    },
    "tags": []
   },
   "outputs": [],
   "source": [
    "# # Shape of training data (num_rows, num_columns)\n",
    "# print(X_train.shape)\n",
    "\n",
    "# # Number of missing values in each column of training data\n",
    "# missing_val_count_by_column = (X_train.isnull().sum())\n",
    "# print(missing_val_count_by_column[missing_val_count_by_column > 0])"
   ]
  },
  {
   "cell_type": "code",
   "execution_count": 9,
   "id": "800d7af2",
   "metadata": {
    "execution": {
     "iopub.execute_input": "2025-07-29T08:23:21.207480Z",
     "iopub.status.busy": "2025-07-29T08:23:21.207141Z",
     "iopub.status.idle": "2025-07-29T08:23:21.211498Z",
     "shell.execute_reply": "2025-07-29T08:23:21.210581Z"
    },
    "papermill": {
     "duration": 0.013465,
     "end_time": "2025-07-29T08:23:21.212947",
     "exception": false,
     "start_time": "2025-07-29T08:23:21.199482",
     "status": "completed"
    },
    "tags": []
   },
   "outputs": [],
   "source": [
    "# # Exercise: Missing Values -- Drop columns with missing values\n",
    "\n",
    "# # Get names of columns with missing values\n",
    "# cols_with_missing = [col for col in X_train.columns\n",
    "#                      if X_train[col].isnull().any()]\n",
    "\n",
    "# # Drop columns in training and validation data\n",
    "# reduced_X_train = X_train.drop(cols_with_missing, axis=1)\n",
    "# reduced_X_valid = X_valid.drop(cols_with_missing, axis=1)\n",
    "\n",
    "# print(\"MAE (Drop columns with missing values):\")\n",
    "# print(score_dataset(reduced_X_train, reduced_X_valid, y_train, y_valid))\n",
    "\n",
    "# # Exercise: Missing Values -- Imputation\n",
    "\n",
    "# # Imputation\n",
    "# my_imputer = SimpleImputer()\n",
    "# imputed_X_train = pd.DataFrame(my_imputer.fit_transform(X_train))\n",
    "# imputed_X_valid = pd.DataFrame(my_imputer.transform(X_valid))\n",
    "\n",
    "# # Imputation removed column names; put them back\n",
    "# imputed_X_train.columns = X_train.columns\n",
    "# imputed_X_valid.columns = X_valid.columns\n",
    "\n",
    "# print(\"MAE (Imputation):\")\n",
    "# print(score_dataset(imputed_X_train, imputed_X_valid, y_train, y_valid))"
   ]
  },
  {
   "cell_type": "code",
   "execution_count": 10,
   "id": "4d597df7",
   "metadata": {
    "execution": {
     "iopub.execute_input": "2025-07-29T08:23:21.228797Z",
     "iopub.status.busy": "2025-07-29T08:23:21.228015Z",
     "iopub.status.idle": "2025-07-29T08:23:21.232458Z",
     "shell.execute_reply": "2025-07-29T08:23:21.231686Z"
    },
    "papermill": {
     "duration": 0.013891,
     "end_time": "2025-07-29T08:23:21.233887",
     "exception": false,
     "start_time": "2025-07-29T08:23:21.219996",
     "status": "completed"
    },
    "tags": []
   },
   "outputs": [],
   "source": [
    "# # Exercise: Missing Values -- # Generate test predictions\n",
    "\n",
    "# ## 1. Train and evaluate a random forest model\n",
    "\n",
    "# ### Preprocess training and validation features\n",
    "\n",
    "# # Imputation\n",
    "# final_imputer = SimpleImputer(strategy='median')\n",
    "# final_X_train = pd.DataFrame(final_imputer.fit_transform(X_train))\n",
    "# final_X_valid = pd.DataFrame(final_imputer.transform(X_valid))\n",
    "\n",
    "# # Imputation removed column names; put them back\n",
    "# final_X_train.columns = X_train.columns\n",
    "# final_X_valid.columns = X_valid.columns\n",
    "\n",
    "# # Define and fit model\n",
    "# model = RandomForestRegressor(n_estimators=100, random_state=0)\n",
    "# model.fit(final_X_train, y_train)\n",
    "\n",
    "# # Get validation predictions and MAE\n",
    "# preds_valid = model.predict(final_X_valid)\n",
    "# print(\"MAE (Your approach):\", mean_absolute_error(y_valid, preds_valid))\n",
    "\n",
    "# ## 2. Preprocess the test data before generating predictions that can be submitted\n",
    "\n",
    "# ### Preprocess test data\n",
    "# final_X_test = pd.DataFrame(final_imputer.transform(X_test))\n",
    "\n",
    "# ### Get test predictions\n",
    "# preds_test = model.predict(final_X_test)"
   ]
  },
  {
   "cell_type": "markdown",
   "id": "e3845449",
   "metadata": {
    "execution": {
     "iopub.execute_input": "2025-07-11T12:55:20.501994Z",
     "iopub.status.busy": "2025-07-11T12:55:20.501632Z",
     "iopub.status.idle": "2025-07-11T12:55:20.506261Z",
     "shell.execute_reply": "2025-07-11T12:55:20.505316Z",
     "shell.execute_reply.started": "2025-07-11T12:55:20.501962Z"
    },
    "papermill": {
     "duration": 0.006603,
     "end_time": "2025-07-29T08:23:21.247494",
     "exception": false,
     "start_time": "2025-07-29T08:23:21.240891",
     "status": "completed"
    },
    "tags": []
   },
   "source": [
    "<a id=\"categorical\"></a>\n",
    "# [Categorical Variables](#categorical)\n",
    "[Back to contents](#top)"
   ]
  },
  {
   "cell_type": "code",
   "execution_count": 11,
   "id": "58a19885",
   "metadata": {
    "execution": {
     "iopub.execute_input": "2025-07-29T08:23:21.262854Z",
     "iopub.status.busy": "2025-07-29T08:23:21.261983Z",
     "iopub.status.idle": "2025-07-29T08:23:21.266092Z",
     "shell.execute_reply": "2025-07-29T08:23:21.265341Z"
    },
    "papermill": {
     "duration": 0.013262,
     "end_time": "2025-07-29T08:23:21.267462",
     "exception": false,
     "start_time": "2025-07-29T08:23:21.254200",
     "status": "completed"
    },
    "tags": []
   },
   "outputs": [],
   "source": [
    "# # Exercise: Categorical Variables -- Drop columns with categorical data\n",
    "\n",
    "# # Fill in the lines below: drop columns in training and validation data\n",
    "# drop_X_train = X_train.select_dtypes(exclude=['object'])\n",
    "# drop_X_valid = X_valid.select_dtypes(exclude=['object'])\n",
    "\n",
    "# print(\"MAE from Approach 1 (Drop categorical variables):\")\n",
    "# print(score_dataset(drop_X_train, drop_X_valid, y_train, y_valid))"
   ]
  },
  {
   "cell_type": "markdown",
   "id": "f3abe09d",
   "metadata": {
    "papermill": {
     "duration": 0.006583,
     "end_time": "2025-07-29T08:23:21.281134",
     "exception": false,
     "start_time": "2025-07-29T08:23:21.274551",
     "status": "completed"
    },
    "tags": []
   },
   "source": [
    "### Ordinal encoding"
   ]
  },
  {
   "cell_type": "code",
   "execution_count": 12,
   "id": "7fa178d7",
   "metadata": {
    "execution": {
     "iopub.execute_input": "2025-07-29T08:23:21.296290Z",
     "iopub.status.busy": "2025-07-29T08:23:21.295409Z",
     "iopub.status.idle": "2025-07-29T08:23:21.299348Z",
     "shell.execute_reply": "2025-07-29T08:23:21.298670Z"
    },
    "papermill": {
     "duration": 0.012959,
     "end_time": "2025-07-29T08:23:21.300638",
     "exception": false,
     "start_time": "2025-07-29T08:23:21.287679",
     "status": "completed"
    },
    "tags": []
   },
   "outputs": [],
   "source": [
    "# # Investigating the dataset for Ordinal encoding\n",
    "# print(\"Unique values in 'Condition2' column in training data:\", X_train['Condition2'].unique())\n",
    "# print(\"\\nUnique values in 'Condition2' column in validation data:\", X_valid['Condition2'].unique())"
   ]
  },
  {
   "cell_type": "markdown",
   "id": "beaad377",
   "metadata": {
    "papermill": {
     "duration": 0.006592,
     "end_time": "2025-07-29T08:23:21.314229",
     "exception": false,
     "start_time": "2025-07-29T08:23:21.307637",
     "status": "completed"
    },
    "tags": []
   },
   "source": [
    "Fitting an ordinal encoder to a column in the training data creates a corresponding integer-valued label for each unique value that appears in the training data. In the case that the validation data contains values that don't also appear in the training data, the encoder will throw an error, because these values won't have an integer assigned to them. **Notice that the 'Condition2' column** in the validation data contains the values 'RRAn' and 'RRNn', but these don't appear in the training data -- thus, if we try to use an ordinal encoder with scikit-learn, the code will throw an error.\n",
    "\n",
    "This is a common problem that you'll encounter with real-world data, and there are many approaches to fixing this issue.  For instance, you can write a custom ordinal encoder to deal with new categories.  The simplest approach, however, is to drop the problematic categorical columns.  \n",
    "\n",
    "Run the code cell below to save the problematic columns to a Python list `bad_label_cols`.  Likewise, columns that can be safely ordinal encoded are stored in `good_label_cols`."
   ]
  },
  {
   "cell_type": "code",
   "execution_count": 13,
   "id": "d38a68dc",
   "metadata": {
    "execution": {
     "iopub.execute_input": "2025-07-29T08:23:21.328996Z",
     "iopub.status.busy": "2025-07-29T08:23:21.328465Z",
     "iopub.status.idle": "2025-07-29T08:23:21.332837Z",
     "shell.execute_reply": "2025-07-29T08:23:21.331939Z"
    },
    "papermill": {
     "duration": 0.01342,
     "end_time": "2025-07-29T08:23:21.334236",
     "exception": false,
     "start_time": "2025-07-29T08:23:21.320816",
     "status": "completed"
    },
    "tags": []
   },
   "outputs": [],
   "source": [
    "# # Categorical columns in the training data\n",
    "# object_cols = [col for col in X_train.columns if X_train[col].dtype == \"object\"]\n",
    "\n",
    "# # Columns that can be safely ordinal encoded\n",
    "# good_label_cols = [col for col in object_cols if \n",
    "#                    set(X_valid[col]).issubset(set(X_train[col]))]\n",
    "        \n",
    "# # Problematic columns that will be dropped from the dataset\n",
    "# bad_label_cols = list(set(object_cols)-set(good_label_cols))\n",
    "        \n",
    "# print('Categorical columns that will be ordinal encoded:', good_label_cols)\n",
    "# print('\\nCategorical columns that will be dropped from the dataset:', bad_label_cols)\n",
    "\n",
    "# # Drop categorical columns that will not be encoded\n",
    "# label_X_train = X_train.drop(bad_label_cols, axis=1)\n",
    "# label_X_valid = X_valid.drop(bad_label_cols, axis=1)\n",
    "\n",
    "# # Apply ordinal encoder \n",
    "# ordinal_encoder = OrdinalEncoder()\n",
    "# label_X_train[good_label_cols] = ordinal_encoder.fit_transform(X_train[good_label_cols])\n",
    "# label_X_valid[good_label_cols] = ordinal_encoder.transform(X_valid[good_label_cols])\n",
    "\n",
    "# print(\"MAE from Approach 2 (Ordinal Encoding):\") \n",
    "# print(score_dataset(label_X_train, label_X_valid, y_train, y_valid))"
   ]
  },
  {
   "cell_type": "markdown",
   "id": "01ae66c5",
   "metadata": {
    "papermill": {
     "duration": 0.006688,
     "end_time": "2025-07-29T08:23:21.347824",
     "exception": false,
     "start_time": "2025-07-29T08:23:21.341136",
     "status": "completed"
    },
    "tags": []
   },
   "source": [
    "### One-hot encoding"
   ]
  },
  {
   "cell_type": "code",
   "execution_count": 14,
   "id": "4fab4f52",
   "metadata": {
    "execution": {
     "iopub.execute_input": "2025-07-29T08:23:21.362660Z",
     "iopub.status.busy": "2025-07-29T08:23:21.362347Z",
     "iopub.status.idle": "2025-07-29T08:23:21.366609Z",
     "shell.execute_reply": "2025-07-29T08:23:21.365740Z"
    },
    "papermill": {
     "duration": 0.013479,
     "end_time": "2025-07-29T08:23:21.368025",
     "exception": false,
     "start_time": "2025-07-29T08:23:21.354546",
     "status": "completed"
    },
    "tags": []
   },
   "outputs": [],
   "source": [
    "# # Investigating the dataset for Ordinal encoding - cardinality\n",
    "\n",
    "# # Get number of unique entries in each column with categorical data\n",
    "# object_nunique = list(map(lambda col: X_train[col].nunique(), object_cols))\n",
    "# d = dict(zip(object_cols, object_nunique))\n",
    "\n",
    "# # Print number of unique entries by column, in ascending order\n",
    "# sorted(d.items(), key=lambda x: x[1])"
   ]
  },
  {
   "cell_type": "markdown",
   "id": "76e2bade",
   "metadata": {
    "papermill": {
     "duration": 0.006671,
     "end_time": "2025-07-29T08:23:21.381746",
     "exception": false,
     "start_time": "2025-07-29T08:23:21.375075",
     "status": "completed"
    },
    "tags": []
   },
   "source": [
    "For large datasets with many rows, one-hot encoding can greatly expand the size of the dataset. For this reason, we typically will only **one-hot encode columns with relatively low cardinality**. Then, high cardinality columns can either be dropped from the dataset, or we can use ordinal encoding.\n",
    "\n",
    "Next, you'll experiment with one-hot encoding.  But, instead of encoding all of the categorical variables in the dataset, you'll only create a one-hot encoding for columns with cardinality less than 10.\n",
    "\n",
    "Run the code cell below without changes to set `low_cardinality_cols` to a Python list containing the columns that will be one-hot encoded.  Likewise, `high_cardinality_cols` contains a list of categorical columns that will be dropped from the dataset."
   ]
  },
  {
   "cell_type": "code",
   "execution_count": 15,
   "id": "2d8e9167",
   "metadata": {
    "execution": {
     "iopub.execute_input": "2025-07-29T08:23:21.396688Z",
     "iopub.status.busy": "2025-07-29T08:23:21.396366Z",
     "iopub.status.idle": "2025-07-29T08:23:21.400994Z",
     "shell.execute_reply": "2025-07-29T08:23:21.400217Z"
    },
    "papermill": {
     "duration": 0.01425,
     "end_time": "2025-07-29T08:23:21.402686",
     "exception": false,
     "start_time": "2025-07-29T08:23:21.388436",
     "status": "completed"
    },
    "tags": []
   },
   "outputs": [],
   "source": [
    "# # Columns that will be one-hot encoded\n",
    "# low_cardinality_cols = [col for col in object_cols if X_train[col].nunique() < 10]\n",
    "\n",
    "# # Columns that will be dropped from the dataset\n",
    "# high_cardinality_cols = list(set(object_cols)-set(low_cardinality_cols))\n",
    "\n",
    "# print('Categorical columns that will be one-hot encoded:', low_cardinality_cols)\n",
    "# print('\\nCategorical columns that will be dropped from the dataset:', high_cardinality_cols)\n",
    "\n",
    "# # Apply one-hot encoder to each column with categorical data\n",
    "# OH_encoder = OneHotEncoder(handle_unknown='ignore', sparse=False)\n",
    "# OH_cols_train = pd.DataFrame(OH_encoder.fit_transform(X_train[low_cardinality_cols]))\n",
    "# OH_cols_valid = pd.DataFrame(OH_encoder.transform(X_valid[low_cardinality_cols]))\n",
    "\n",
    "# # One-hot encoding removed index; put it back\n",
    "# OH_cols_train.index = X_train.index\n",
    "# OH_cols_valid.index = X_valid.index\n",
    "\n",
    "# # Remove categorical columns (will replace with one-hot encoding)\n",
    "# num_X_train = X_train.drop(object_cols, axis=1)\n",
    "# num_X_valid = X_valid.drop(object_cols, axis=1)\n",
    "\n",
    "# # Add one-hot encoded columns to numerical features\n",
    "# OH_X_train = pd.concat([num_X_train, OH_cols_train], axis=1)\n",
    "# OH_X_valid = pd.concat([num_X_valid, OH_cols_valid], axis=1)\n",
    "\n",
    "# # Ensure all columns have string type\n",
    "# OH_X_train.columns = OH_X_train.columns.astype(str)\n",
    "# OH_X_valid.columns = OH_X_valid.columns.astype(str)\n",
    "\n",
    "# print(\"MAE from Approach 3 (One-Hot Encoding):\") \n",
    "# print(score_dataset(OH_X_train, OH_X_valid, y_train, y_valid))"
   ]
  },
  {
   "cell_type": "code",
   "execution_count": 16,
   "id": "edc4c8f0",
   "metadata": {
    "execution": {
     "iopub.execute_input": "2025-07-29T08:23:21.491048Z",
     "iopub.status.busy": "2025-07-29T08:23:21.490416Z",
     "iopub.status.idle": "2025-07-29T08:23:21.494194Z",
     "shell.execute_reply": "2025-07-29T08:23:21.493285Z"
    },
    "papermill": {
     "duration": 0.085929,
     "end_time": "2025-07-29T08:23:21.495648",
     "exception": false,
     "start_time": "2025-07-29T08:23:21.409719",
     "status": "completed"
    },
    "tags": []
   },
   "outputs": [],
   "source": [
    "# Generate test predictions\n",
    "\n",
    "## preprocess the test data\n",
    "\n",
    "## generate predictions"
   ]
  },
  {
   "cell_type": "markdown",
   "id": "73f22834",
   "metadata": {
    "papermill": {
     "duration": 0.007004,
     "end_time": "2025-07-29T08:23:21.510012",
     "exception": false,
     "start_time": "2025-07-29T08:23:21.503008",
     "status": "completed"
    },
    "tags": []
   },
   "source": [
    "<a id=\"pipelines\"></a>\n",
    "# [Pipelines](#pipelines)\n",
    "[Back to contents](#top)"
   ]
  },
  {
   "cell_type": "code",
   "execution_count": 17,
   "id": "bc20bd75",
   "metadata": {
    "execution": {
     "iopub.execute_input": "2025-07-29T08:23:21.525087Z",
     "iopub.status.busy": "2025-07-29T08:23:21.524735Z",
     "iopub.status.idle": "2025-07-29T08:23:21.528737Z",
     "shell.execute_reply": "2025-07-29T08:23:21.528008Z"
    },
    "papermill": {
     "duration": 0.013319,
     "end_time": "2025-07-29T08:23:21.530273",
     "exception": false,
     "start_time": "2025-07-29T08:23:21.516954",
     "status": "completed"
    },
    "tags": []
   },
   "outputs": [],
   "source": [
    "# # Exercise: Pipelines\n",
    "\n",
    "# # \"Cardinality\" means the number of unique values in a column\n",
    "# # Select categorical columns with relatively low cardinality (convenient but arbitrary)\n",
    "# categorical_cols = [cname for cname in X_train_full.columns if\n",
    "#                     X_train_full[cname].nunique() < 10 and \n",
    "#                     X_train_full[cname].dtype == \"object\"]\n",
    "\n",
    "# # Select numerical columns\n",
    "# numerical_cols = [cname for cname in X_train_full.columns if \n",
    "#                 X_train_full[cname].dtype in ['int64', 'float64']]\n",
    "\n",
    "# # Keep selected columns only\n",
    "# my_cols = categorical_cols + numerical_cols\n",
    "# X_train = X_train_full[my_cols].copy()\n",
    "# X_valid = X_valid_full[my_cols].copy()\n",
    "# X_test = X_test_full[my_cols].copy()"
   ]
  },
  {
   "cell_type": "code",
   "execution_count": 18,
   "id": "7253ede9",
   "metadata": {
    "execution": {
     "iopub.execute_input": "2025-07-29T08:23:21.545598Z",
     "iopub.status.busy": "2025-07-29T08:23:21.545315Z",
     "iopub.status.idle": "2025-07-29T08:23:21.549561Z",
     "shell.execute_reply": "2025-07-29T08:23:21.548840Z"
    },
    "papermill": {
     "duration": 0.013672,
     "end_time": "2025-07-29T08:23:21.551090",
     "exception": false,
     "start_time": "2025-07-29T08:23:21.537418",
     "status": "completed"
    },
    "tags": []
   },
   "outputs": [],
   "source": [
    "# # Preprocess the data and train a model\n",
    "\n",
    "# # Preprocessing for numerical data\n",
    "# numerical_transformer = SimpleImputer(strategy='constant')\n",
    "\n",
    "# # Preprocessing for categorical data\n",
    "# categorical_transformer = Pipeline(steps=[\n",
    "#     ('imputer', SimpleImputer(strategy='most_frequent')),\n",
    "#     ('onehot', OneHotEncoder(handle_unknown='ignore'))\n",
    "# ])\n",
    "\n",
    "# # Bundle preprocessing for numerical and categorical data\n",
    "# preprocessor = ColumnTransformer(\n",
    "#     transformers=[\n",
    "#         ('num', numerical_transformer, numerical_cols),\n",
    "#         ('cat', categorical_transformer, categorical_cols)\n",
    "#     ])\n",
    "\n",
    "# # Define model\n",
    "# model = RandomForestRegressor(n_estimators=100, random_state=0)\n",
    "\n",
    "# # Bundle preprocessing and modeling code in a pipeline\n",
    "# my_pipeline = Pipeline(steps=[('preprocessor', preprocessor),\n",
    "#                               ('model', model)\n",
    "#                              ])\n",
    "\n",
    "# # Preprocessing of training data, fit model \n",
    "# my_pipeline.fit(X_train, y_train)\n",
    "\n",
    "# # Preprocessing of validation data, get predictions\n",
    "# preds = my_pipeline.predict(X_valid)\n",
    "\n",
    "# # Evaluate the model\n",
    "# print('MAE:', mean_absolute_error(y_valid, preds))\n",
    "\n",
    "# # Preprocessing of test data, fit model\n",
    "# preds_test = my_pipeline.predict(X_test)"
   ]
  },
  {
   "cell_type": "markdown",
   "id": "d93ef32e",
   "metadata": {
    "papermill": {
     "duration": 0.006795,
     "end_time": "2025-07-29T08:23:21.565066",
     "exception": false,
     "start_time": "2025-07-29T08:23:21.558271",
     "status": "completed"
    },
    "tags": []
   },
   "source": [
    "<a id=\"crossval\"></a>\n",
    "# [Cross-Validation](#crossval)\n",
    "[Back to contents](#top)"
   ]
  },
  {
   "cell_type": "code",
   "execution_count": 19,
   "id": "00ef0e0a",
   "metadata": {
    "execution": {
     "iopub.execute_input": "2025-07-29T08:23:21.579901Z",
     "iopub.status.busy": "2025-07-29T08:23:21.579557Z",
     "iopub.status.idle": "2025-07-29T08:23:21.584288Z",
     "shell.execute_reply": "2025-07-29T08:23:21.583399Z"
    },
    "papermill": {
     "duration": 0.013976,
     "end_time": "2025-07-29T08:23:21.585845",
     "exception": false,
     "start_time": "2025-07-29T08:23:21.571869",
     "status": "completed"
    },
    "tags": []
   },
   "outputs": [],
   "source": [
    "# # Select numeric columns only\n",
    "# numeric_cols = [cname for cname in train_data.columns if train_data[cname].dtype in ['int64', 'float64']]\n",
    "# X = train_data[numeric_cols].copy()\n",
    "# X_test = test_data[numeric_cols].copy()\n",
    "\n",
    "# my_pipeline = Pipeline(steps=[\n",
    "#     ('preprocessor', SimpleImputer()),\n",
    "#     ('model', RandomForestRegressor(n_estimators=50, random_state=0))\n",
    "# ])\n",
    "\n",
    "# # Multiply by -1 since sklearn calculates *negative* MAE\n",
    "# scores = -1 * cross_val_score(my_pipeline, X, y,\n",
    "#                               cv=5,\n",
    "#                               scoring='neg_mean_absolute_error')\n",
    "\n",
    "# print(\"Average MAE score:\", scores.mean())\n",
    "\n",
    "# def get_score(n_estimators):\n",
    "#     \"\"\"Return the average MAE over 3 CV folds of random forest model.\n",
    "    \n",
    "#     Keyword argument:\n",
    "#     n_estimators -- the number of trees in the forest\n",
    "#     \"\"\"\n",
    "#     my_pipeline = Pipeline(steps=[\n",
    "#     ('preprocessor', SimpleImputer()),\n",
    "#     ('model', RandomForestRegressor(n_estimators, random_state=0))\n",
    "# ])\n",
    "#     scores = -1 * cross_val_score(my_pipeline, X, y,\n",
    "#                               cv=3,\n",
    "#                               scoring='neg_mean_absolute_error')\n",
    "#     return scores.mean()\n",
    "\n",
    "# results = {estimator: get_score(estimator) for estimator in [50, 100, 150, 200, 250, 300, 350, 400]}\n",
    "\n",
    "\n",
    "\n",
    "# plt.plot(list(results.keys()), list(results.values()))\n",
    "# plt.show()"
   ]
  },
  {
   "cell_type": "markdown",
   "id": "a23d8e9b",
   "metadata": {
    "papermill": {
     "duration": 0.006454,
     "end_time": "2025-07-29T08:23:21.599535",
     "exception": false,
     "start_time": "2025-07-29T08:23:21.593081",
     "status": "completed"
    },
    "tags": []
   },
   "source": [
    "<a id=\"xgboost\"></a>\n",
    "# [XGBoost (gradient boosting)](#xgboost)\n",
    "[Back to contents](#top)"
   ]
  },
  {
   "cell_type": "code",
   "execution_count": 20,
   "id": "742ff968",
   "metadata": {
    "execution": {
     "iopub.execute_input": "2025-07-29T08:23:21.615096Z",
     "iopub.status.busy": "2025-07-29T08:23:21.614725Z",
     "iopub.status.idle": "2025-07-29T08:23:21.722919Z",
     "shell.execute_reply": "2025-07-29T08:23:21.721979Z"
    },
    "papermill": {
     "duration": 0.118221,
     "end_time": "2025-07-29T08:23:21.724613",
     "exception": false,
     "start_time": "2025-07-29T08:23:21.606392",
     "status": "completed"
    },
    "tags": []
   },
   "outputs": [],
   "source": [
    "# \"Cardinality\" means the number of unique values in a column\n",
    "\n",
    "# Select categorical columns with relatively low cardinality (convenient but arbitrary)\n",
    "low_cardinality_cols = [cname for cname in X_train_full.columns if X_train_full[cname].nunique() < 10 and \n",
    "                        X_train_full[cname].dtype == \"object\"]\n",
    "\n",
    "# Select numeric columns\n",
    "numeric_cols = [cname for cname in X_train_full.columns if X_train_full[cname].dtype in ['int64', 'float64']]\n",
    "\n",
    "# Keep selected columns only\n",
    "my_cols = low_cardinality_cols + numeric_cols\n",
    "X_train = X_train_full[my_cols].copy()\n",
    "X_valid = X_valid_full[my_cols].copy()\n",
    "X_test = X_test_full[my_cols].copy()\n",
    "\n",
    "# One-hot encode the data (to shorten the code, we use pandas)\n",
    "X_train = pd.get_dummies(X_train)\n",
    "X_valid = pd.get_dummies(X_valid)\n",
    "X_test = pd.get_dummies(X_test)\n",
    "X_train, X_valid = X_train.align(X_valid, join='left', axis=1)\n",
    "X_train, X_test = X_train.align(X_test, join='left', axis=1)"
   ]
  },
  {
   "cell_type": "code",
   "execution_count": 21,
   "id": "11442008",
   "metadata": {
    "execution": {
     "iopub.execute_input": "2025-07-29T08:23:21.740286Z",
     "iopub.status.busy": "2025-07-29T08:23:21.739951Z",
     "iopub.status.idle": "2025-07-29T08:23:26.900198Z",
     "shell.execute_reply": "2025-07-29T08:23:26.899537Z"
    },
    "papermill": {
     "duration": 5.170076,
     "end_time": "2025-07-29T08:23:26.901975",
     "exception": false,
     "start_time": "2025-07-29T08:23:21.731899",
     "status": "completed"
    },
    "tags": []
   },
   "outputs": [
    {
     "name": "stdout",
     "output_type": "stream",
     "text": [
      "Mean Absolute Error: 17079.305463398974\n"
     ]
    }
   ],
   "source": [
    "# Improve the model with the parameters\n",
    "\n",
    "# Define the model\n",
    "my_model_2 = XGBRegressor(n_estimators=1000, learning_rate=0.01) \n",
    "\n",
    "# Fit the model\n",
    "my_model_2.fit(X_train, y_train)\n",
    "\n",
    "# Get predictions\n",
    "predictions_2 = my_model_2.predict(X_valid) \n",
    "\n",
    "# Calculate MAE\n",
    "mae_2 = mean_absolute_error(predictions_2, y_valid) \n",
    "print(\"Mean Absolute Error:\" , mae_2)\n"
   ]
  },
  {
   "cell_type": "markdown",
   "id": "6c79dd90",
   "metadata": {
    "papermill": {
     "duration": 0.007863,
     "end_time": "2025-07-29T08:23:26.919115",
     "exception": false,
     "start_time": "2025-07-29T08:23:26.911252",
     "status": "completed"
    },
    "tags": []
   },
   "source": [
    "<a id=\"results\"></a>\n",
    "# [Submit your results](#results)\n",
    "[Back to contents](#top)"
   ]
  },
  {
   "cell_type": "code",
   "execution_count": 22,
   "id": "07c0e73f",
   "metadata": {
    "execution": {
     "iopub.execute_input": "2025-07-29T08:23:26.934891Z",
     "iopub.status.busy": "2025-07-29T08:23:26.934289Z",
     "iopub.status.idle": "2025-07-29T08:23:26.996046Z",
     "shell.execute_reply": "2025-07-29T08:23:26.995352Z"
    },
    "papermill": {
     "duration": 0.071444,
     "end_time": "2025-07-29T08:23:26.997868",
     "exception": false,
     "start_time": "2025-07-29T08:23:26.926424",
     "status": "completed"
    },
    "tags": []
   },
   "outputs": [],
   "source": [
    "# Preprocessing of test data, fit model\n",
    "preds_test = my_model_2.predict(X_test)"
   ]
  },
  {
   "cell_type": "code",
   "execution_count": 23,
   "id": "40f32403",
   "metadata": {
    "execution": {
     "iopub.execute_input": "2025-07-29T08:23:27.016202Z",
     "iopub.status.busy": "2025-07-29T08:23:27.015888Z",
     "iopub.status.idle": "2025-07-29T08:23:27.028875Z",
     "shell.execute_reply": "2025-07-29T08:23:27.028086Z"
    },
    "papermill": {
     "duration": 0.023605,
     "end_time": "2025-07-29T08:23:27.030469",
     "exception": false,
     "start_time": "2025-07-29T08:23:27.006864",
     "status": "completed"
    },
    "tags": []
   },
   "outputs": [],
   "source": [
    "# Save predictions in format used for competition scoring\n",
    "\n",
    "output = pd.DataFrame({'Id': X_test.index,\n",
    "                       'SalePrice': preds_test})\n",
    "output.to_csv('submission.csv', index=False)"
   ]
  },
  {
   "cell_type": "markdown",
   "id": "cf0b7b46",
   "metadata": {
    "papermill": {
     "duration": 0.006533,
     "end_time": "2025-07-29T08:23:27.044225",
     "exception": false,
     "start_time": "2025-07-29T08:23:27.037692",
     "status": "completed"
    },
    "tags": []
   },
   "source": [
    "<a id=\"extra\"></a>\n",
    "# [Extra](#extra)\n",
    "[Back to contents](#top)"
   ]
  },
  {
   "cell_type": "markdown",
   "id": "866685a3",
   "metadata": {
    "papermill": {
     "duration": 0.006351,
     "end_time": "2025-07-29T08:23:27.057304",
     "exception": false,
     "start_time": "2025-07-29T08:23:27.050953",
     "status": "completed"
    },
    "tags": []
   },
   "source": [
    "#### House Prices Best Solution  - \"LightGBM\"\n",
    "https://www.kaggle.com/code/tnr1337/house-prices-best-solution/notebook"
   ]
  },
  {
   "cell_type": "code",
   "execution_count": 24,
   "id": "5bb29083",
   "metadata": {
    "execution": {
     "iopub.execute_input": "2025-07-29T08:23:27.072222Z",
     "iopub.status.busy": "2025-07-29T08:23:27.071897Z",
     "iopub.status.idle": "2025-07-29T08:23:27.077060Z",
     "shell.execute_reply": "2025-07-29T08:23:27.076128Z"
    },
    "papermill": {
     "duration": 0.014401,
     "end_time": "2025-07-29T08:23:27.078496",
     "exception": false,
     "start_time": "2025-07-29T08:23:27.064095",
     "status": "completed"
    },
    "tags": []
   },
   "outputs": [],
   "source": [
    "# import warnings\n",
    "# warnings.filterwarnings('ignore')\n",
    "# import numpy as np\n",
    "# import pandas as pd\n",
    "# from sklearn.preprocessing import LabelEncoder\n",
    "# from sklearn.model_selection import KFold\n",
    "# from sklearn.metrics import mean_squared_error\n",
    "# import lightgbm as lgb\n",
    "# from lightgbm import early_stopping, log_evaluation\n",
    "\n",
    "# # from scipy.stats import norm, skew\n",
    "# # from scipy import stats\n",
    "\n",
    "# y = train[\"SalePrice\"]\n",
    "# train_id = train[\"Id\"]\n",
    "# test_id = test[\"Id\"]\n",
    "\n",
    "# # Preprocessing function\n",
    "# def preprocess(df):\n",
    "#     df = df.copy()\n",
    "#     for col in df.select_dtypes(include=\"object\"):\n",
    "#         df[col] = df[col].fillna(\"None\")\n",
    "#         df[col] = LabelEncoder().fit_transform(df[col])\n",
    "#     for col in df.select_dtypes(include=[\"int64\", \"float64\"]):\n",
    "#         df[col] = df[col].fillna(df[col].median())\n",
    "#     return df\n",
    "\n",
    "# # Feature separation\n",
    "# X = preprocess(train.drop([\"Id\", \"SalePrice\"], axis=1))\n",
    "# X_test = preprocess(test.drop(\"Id\", axis=1))\n",
    "\n",
    "# # K-Fold Cross Validation\n",
    "# kf = KFold(n_splits=5, shuffle=True, random_state=42)\n",
    "# oof = np.zeros(len(X))\n",
    "# preds = np.zeros(len(X_test))\n",
    "\n",
    "# for fold, (train_idx, val_idx) in enumerate(kf.split(X)):\n",
    "#     X_train, X_val = X.iloc[train_idx], X.iloc[val_idx]\n",
    "#     y_train, y_val = y.iloc[train_idx], y.iloc[val_idx]\n",
    "    \n",
    "#     model = lgb.LGBMRegressor(n_estimators=1000, learning_rate=0.01, random_state=42)\n",
    "    \n",
    "#     model.fit(\n",
    "#         X_train, y_train,\n",
    "#         eval_set=[(X_val, y_val)],\n",
    "#         callbacks=[\n",
    "#             early_stopping(stopping_rounds=100),\n",
    "#             log_evaluation(period=100)\n",
    "#         ]\n",
    "#     )\n",
    "    \n",
    "#     oof[val_idx] = model.predict(X_val)\n",
    "#     preds += model.predict(X_test) / kf.n_splits\n",
    "\n",
    "# # CV RMSE\n",
    "# rmse = mean_squared_error(y, oof, squared=False)\n",
    "# print(f\"CV RMSE: {rmse:.4f}\")\n",
    "\n",
    "# # Submission file\n",
    "# submission = pd.DataFrame({\n",
    "#     \"Id\": test_id,\n",
    "#     \"SalePrice\": preds\n",
    "# })\n",
    "# submission.to_csv(\"submission.csv\", index=False)"
   ]
  },
  {
   "cell_type": "markdown",
   "id": "667ab790",
   "metadata": {
    "papermill": {
     "duration": 0.006716,
     "end_time": "2025-07-29T08:23:27.092461",
     "exception": false,
     "start_time": "2025-07-29T08:23:27.085745",
     "status": "completed"
    },
    "tags": []
   },
   "source": [
    "<a id=\"learn\"></a>\n",
    "# [Continue to learn from others](#learn)\n",
    "[Back to contents](#top)"
   ]
  },
  {
   "cell_type": "markdown",
   "id": "f3479b10",
   "metadata": {
    "papermill": {
     "duration": 0.006857,
     "end_time": "2025-07-29T08:23:27.106285",
     "exception": false,
     "start_time": "2025-07-29T08:23:27.099428",
     "status": "completed"
    },
    "tags": []
   },
   "source": [
    "**Top 1% Approach: EDA, New Models and Stacking**\n",
    "https://www.kaggle.com/code/datafan07/top-1-approach-eda-new-models-and-stacking\n",
    "\n",
    "**House Prices: 1st Approach to Data Science Process**\n",
    "https://www.kaggle.com/code/cheesu/house-prices-1st-approach-to-data-science-process\n",
    "\"This kernel represents my first personal exploration of an (almost) end-to-end data science process. While starting off as a kernel to complete the Kaggle Learn Machine Learning exercise, it has now been significantly modified to serve a broader learning experience for myself.\"\n",
    "\n",
    "**Top 1%-🏡Housing Price(EDA+Random) for Everyone🤓**\n",
    "https://www.kaggle.com/code/lazer999/top-1-housing-price-eda-random-for-everyone\n",
    "\n",
    "**Data Science Workflow TOP 2% (with Tuning)**\n",
    "https://www.kaggle.com/code/angqx95/data-science-workflow-top-2-with-tuning/notebook\n",
    "\n",
    "**9th RANK | HOUSING PRICES (feature engineering)**\n",
    "https://www.kaggle.com/code/manyasinghal912/9th-rank-housing-prices-feature-engineering\n",
    "\n",
    "**feature engineering + optuna + stacked pipe**\n",
    "https://www.kaggle.com/code/rzatemizel/feature-engineering-optuna-stacked-pipe\n",
    "\n",
    "**StackingAndEnsembling**\n",
    "https://www.kaggle.com/code/donaldst/stackingandensembling\n",
    "\n",
    "**Stack&Blend LRs XGB LGB {House Prices K} v17**\n",
    "https://www.kaggle.com/code/itslek/stack-blend-lrs-xgb-lgb-house-prices-k-v17"
   ]
  }
 ],
 "metadata": {
  "kaggle": {
   "accelerator": "none",
   "dataSources": [
    {
     "databundleVersionId": 111096,
     "sourceId": 10211,
     "sourceType": "competition"
    }
   ],
   "dockerImageVersionId": 31089,
   "isGpuEnabled": false,
   "isInternetEnabled": true,
   "language": "python",
   "sourceType": "notebook"
  },
  "kernelspec": {
   "display_name": "Python 3",
   "language": "python",
   "name": "python3"
  },
  "language_info": {
   "codemirror_mode": {
    "name": "ipython",
    "version": 3
   },
   "file_extension": ".py",
   "mimetype": "text/x-python",
   "name": "python",
   "nbconvert_exporter": "python",
   "pygments_lexer": "ipython3",
   "version": "3.11.13"
  },
  "papermill": {
   "default_parameters": {},
   "duration": 16.384229,
   "end_time": "2025-07-29T08:23:27.833861",
   "environment_variables": {},
   "exception": null,
   "input_path": "__notebook__.ipynb",
   "output_path": "__notebook__.ipynb",
   "parameters": {},
   "start_time": "2025-07-29T08:23:11.449632",
   "version": "2.6.0"
  }
 },
 "nbformat": 4,
 "nbformat_minor": 5
}
